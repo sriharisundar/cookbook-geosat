{
 "cells": [
  {
   "cell_type": "markdown",
   "metadata": {},
   "source": [
    "# Imports"
   ]
  },
  {
   "cell_type": "code",
   "execution_count": 51,
   "metadata": {},
   "outputs": [],
   "source": [
    "import warnings\n",
    "warnings.filterwarnings('ignore')\n",
    "warnings.simplefilter('ignore', SyntaxWarning)\n",
    "\n",
    "from satpy.composites import get_enhanced_image\n",
    "from satpy.scene import Scene\n",
    "\n",
    "from datetime import datetime\n",
    "from glob import glob\n",
    "\n",
    "import numpy as np\n",
    "\n",
    "import panel as pn\n",
    "import hvplot.xarray"
   ]
  },
  {
   "cell_type": "markdown",
   "metadata": {},
   "source": [
    "## Starting to create satpy scenes"
   ]
  },
  {
   "cell_type": "code",
   "execution_count": null,
   "metadata": {},
   "outputs": [],
   "source": [
    "sat_files = glob(\"input/G16_ABI-L1b-RadF/*\")\n",
    "sat_files"
   ]
  },
  {
   "cell_type": "code",
   "execution_count": 45,
   "metadata": {},
   "outputs": [],
   "source": [
    "scn = Scene(filenames = sat_files, reader='abi_l1b')\n",
    "\n",
    "dataset_names = scn.all_dataset_names()\n",
    "\n",
    "#print(dataset_names)"
   ]
  },
  {
   "cell_type": "code",
   "execution_count": null,
   "metadata": {},
   "outputs": [],
   "source": [
    "dataset_names"
   ]
  },
  {
   "cell_type": "code",
   "execution_count": 47,
   "metadata": {},
   "outputs": [],
   "source": [
    "components = scn.available_composite_names()"
   ]
  },
  {
   "cell_type": "code",
   "execution_count": 6,
   "metadata": {},
   "outputs": [],
   "source": [
    "scn.load([f'C{x:02d}' for x in range(1, 17)])"
   ]
  },
  {
   "cell_type": "code",
   "execution_count": 7,
   "metadata": {},
   "outputs": [],
   "source": [
    "band_select = pn.widgets.Select(name='Band name', options=dataset_names)"
   ]
  },
  {
   "cell_type": "code",
   "execution_count": 8,
   "metadata": {},
   "outputs": [],
   "source": [
    "band_select_components = pn.widgets.Select(name='Component name', options=components)"
   ]
  },
  {
   "cell_type": "code",
   "execution_count": 9,
   "metadata": {},
   "outputs": [
    {
     "data": {},
     "metadata": {},
     "output_type": "display_data"
    },
    {
     "data": {
      "application/vnd.holoviews_exec.v0+json": "",
      "text/html": [
       "<div id='p1008'>\n",
       "  <div id=\"ac013fc2-e4ab-4c4f-9776-a8987880b5e8\" data-root-id=\"p1008\" style=\"display: contents;\"></div>\n",
       "</div>\n",
       "<script type=\"application/javascript\">(function(root) {\n",
       "  var docs_json = {\"8d45e247-14c5-49cb-b7dc-0683420c08d9\":{\"version\":\"3.4.1\",\"title\":\"Bokeh Application\",\"roots\":[{\"type\":\"object\",\"name\":\"panel.models.widgets.CustomSelect\",\"id\":\"p1008\",\"attributes\":{\"stylesheets\":[\"\\n:host(.pn-loading):before, .pn-loading:before {\\n  background-color: #c3c3c3;\\n  mask-size: auto calc(min(50%, 400px));\\n  -webkit-mask-size: auto calc(min(50%, 400px));\\n}\",{\"type\":\"object\",\"name\":\"ImportedStyleSheet\",\"id\":\"p1006\",\"attributes\":{\"url\":\"https://cdn.holoviz.org/panel/1.4.2/dist/css/loading.css\"}},{\"type\":\"object\",\"name\":\"ImportedStyleSheet\",\"id\":\"p1007\",\"attributes\":{\"url\":\"https://cdn.holoviz.org/panel/1.4.2/dist/css/select.css\"}},{\"type\":\"object\",\"name\":\"ImportedStyleSheet\",\"id\":\"p1004\",\"attributes\":{\"url\":\"https://cdn.holoviz.org/panel/1.4.2/dist/bundled/theme/default.css\"}},{\"type\":\"object\",\"name\":\"ImportedStyleSheet\",\"id\":\"p1005\",\"attributes\":{\"url\":\"https://cdn.holoviz.org/panel/1.4.2/dist/bundled/theme/native.css\"}}],\"width\":300,\"min_width\":300,\"margin\":[5,10],\"align\":\"start\",\"title\":\"Component name\",\"options\":[\"24h_microphysics\",\"airmass\",\"ash\",\"cimss_cloud_type\",\"cimss_cloud_type_raw\",\"cimss_green\",\"cimss_green_sunz\",\"cimss_green_sunz_rayleigh\",\"cimss_true_color\",\"cimss_true_color_sunz\",\"cimss_true_color_sunz_rayleigh\",\"cira_day_convection\",\"cira_fire_temperature\",\"cloud_phase\",\"cloud_phase_distinction\",\"cloud_phase_distinction_raw\",\"cloud_phase_raw\",\"cloudtop\",\"color_infrared\",\"colorized_ir_clouds\",\"convection\",\"day_microphysics\",\"day_microphysics_abi\",\"day_microphysics_eum\",\"dust\",\"fire_temperature_awips\",\"fog\",\"geo_color\",\"geo_color_background_with_low_clouds\",\"geo_color_high_clouds\",\"geo_color_low_clouds\",\"geo_color_night\",\"green\",\"green_crefl\",\"green_nocorr\",\"green_raw\",\"green_snow\",\"highlight_C14\",\"ir108_3d\",\"ir_cloud_day\",\"land_cloud\",\"land_cloud_fire\",\"natural_color\",\"natural_color_nocorr\",\"natural_color_raw\",\"natural_color_raw_with_night_ir\",\"night_fog\",\"night_ir_alpha\",\"night_ir_with_background\",\"night_ir_with_background_hires\",\"night_microphysics\",\"night_microphysics_eum\",\"overview\",\"overview_raw\",\"rocket_plume_day\",\"rocket_plume_night\",\"snow\",\"snow_fog\",\"so2\",\"tropical_airmass\",\"true_color\",\"true_color_crefl\",\"true_color_nocorr\",\"true_color_raw\",\"true_color_reproduction\",\"true_color_reproduction_corr\",\"true_color_reproduction_uncorr\",\"true_color_with_night_fires\",\"true_color_with_night_fires_nocorr\",\"true_color_with_night_ir\",\"true_color_with_night_ir_hires\",\"water_vapors1\",\"water_vapors2\"],\"value\":\"24h_microphysics\"}},{\"type\":\"object\",\"name\":\"panel.models.comm_manager.CommManager\",\"id\":\"p1009\",\"attributes\":{\"plot_id\":\"p1008\",\"comm_id\":\"8625629bdca14d5aba7283efa3d02379\",\"client_comm_id\":\"fde403251d8942b9bc7e18a98bf3fb28\"}}],\"defs\":[{\"type\":\"model\",\"name\":\"ReactiveHTML1\"},{\"type\":\"model\",\"name\":\"FlexBox1\",\"properties\":[{\"name\":\"align_content\",\"kind\":\"Any\",\"default\":\"flex-start\"},{\"name\":\"align_items\",\"kind\":\"Any\",\"default\":\"flex-start\"},{\"name\":\"flex_direction\",\"kind\":\"Any\",\"default\":\"row\"},{\"name\":\"flex_wrap\",\"kind\":\"Any\",\"default\":\"wrap\"},{\"name\":\"gap\",\"kind\":\"Any\",\"default\":\"\"},{\"name\":\"justify_content\",\"kind\":\"Any\",\"default\":\"flex-start\"}]},{\"type\":\"model\",\"name\":\"FloatPanel1\",\"properties\":[{\"name\":\"config\",\"kind\":\"Any\",\"default\":{\"type\":\"map\"}},{\"name\":\"contained\",\"kind\":\"Any\",\"default\":true},{\"name\":\"position\",\"kind\":\"Any\",\"default\":\"right-top\"},{\"name\":\"offsetx\",\"kind\":\"Any\",\"default\":null},{\"name\":\"offsety\",\"kind\":\"Any\",\"default\":null},{\"name\":\"theme\",\"kind\":\"Any\",\"default\":\"primary\"},{\"name\":\"status\",\"kind\":\"Any\",\"default\":\"normalized\"}]},{\"type\":\"model\",\"name\":\"GridStack1\",\"properties\":[{\"name\":\"mode\",\"kind\":\"Any\",\"default\":\"warn\"},{\"name\":\"ncols\",\"kind\":\"Any\",\"default\":null},{\"name\":\"nrows\",\"kind\":\"Any\",\"default\":null},{\"name\":\"allow_resize\",\"kind\":\"Any\",\"default\":true},{\"name\":\"allow_drag\",\"kind\":\"Any\",\"default\":true},{\"name\":\"state\",\"kind\":\"Any\",\"default\":[]}]},{\"type\":\"model\",\"name\":\"drag1\",\"properties\":[{\"name\":\"slider_width\",\"kind\":\"Any\",\"default\":5},{\"name\":\"slider_color\",\"kind\":\"Any\",\"default\":\"black\"},{\"name\":\"value\",\"kind\":\"Any\",\"default\":50}]},{\"type\":\"model\",\"name\":\"click1\",\"properties\":[{\"name\":\"terminal_output\",\"kind\":\"Any\",\"default\":\"\"},{\"name\":\"debug_name\",\"kind\":\"Any\",\"default\":\"\"},{\"name\":\"clears\",\"kind\":\"Any\",\"default\":0}]},{\"type\":\"model\",\"name\":\"FastWrapper1\",\"properties\":[{\"name\":\"object\",\"kind\":\"Any\",\"default\":null},{\"name\":\"style\",\"kind\":\"Any\",\"default\":null}]},{\"type\":\"model\",\"name\":\"NotificationAreaBase1\",\"properties\":[{\"name\":\"js_events\",\"kind\":\"Any\",\"default\":{\"type\":\"map\"}},{\"name\":\"position\",\"kind\":\"Any\",\"default\":\"bottom-right\"},{\"name\":\"_clear\",\"kind\":\"Any\",\"default\":0}]},{\"type\":\"model\",\"name\":\"NotificationArea1\",\"properties\":[{\"name\":\"js_events\",\"kind\":\"Any\",\"default\":{\"type\":\"map\"}},{\"name\":\"notifications\",\"kind\":\"Any\",\"default\":[]},{\"name\":\"position\",\"kind\":\"Any\",\"default\":\"bottom-right\"},{\"name\":\"_clear\",\"kind\":\"Any\",\"default\":0},{\"name\":\"types\",\"kind\":\"Any\",\"default\":[{\"type\":\"map\",\"entries\":[[\"type\",\"warning\"],[\"background\",\"#ffc107\"],[\"icon\",{\"type\":\"map\",\"entries\":[[\"className\",\"fas fa-exclamation-triangle\"],[\"tagName\",\"i\"],[\"color\",\"white\"]]}]]},{\"type\":\"map\",\"entries\":[[\"type\",\"info\"],[\"background\",\"#007bff\"],[\"icon\",{\"type\":\"map\",\"entries\":[[\"className\",\"fas fa-info-circle\"],[\"tagName\",\"i\"],[\"color\",\"white\"]]}]]}]}]},{\"type\":\"model\",\"name\":\"Notification\",\"properties\":[{\"name\":\"background\",\"kind\":\"Any\",\"default\":null},{\"name\":\"duration\",\"kind\":\"Any\",\"default\":3000},{\"name\":\"icon\",\"kind\":\"Any\",\"default\":null},{\"name\":\"message\",\"kind\":\"Any\",\"default\":\"\"},{\"name\":\"notification_type\",\"kind\":\"Any\",\"default\":null},{\"name\":\"_destroyed\",\"kind\":\"Any\",\"default\":false}]},{\"type\":\"model\",\"name\":\"TemplateActions1\",\"properties\":[{\"name\":\"open_modal\",\"kind\":\"Any\",\"default\":0},{\"name\":\"close_modal\",\"kind\":\"Any\",\"default\":0}]},{\"type\":\"model\",\"name\":\"BootstrapTemplateActions1\",\"properties\":[{\"name\":\"open_modal\",\"kind\":\"Any\",\"default\":0},{\"name\":\"close_modal\",\"kind\":\"Any\",\"default\":0}]},{\"type\":\"model\",\"name\":\"TemplateEditor1\",\"properties\":[{\"name\":\"layout\",\"kind\":\"Any\",\"default\":[]}]},{\"type\":\"model\",\"name\":\"MaterialTemplateActions1\",\"properties\":[{\"name\":\"open_modal\",\"kind\":\"Any\",\"default\":0},{\"name\":\"close_modal\",\"kind\":\"Any\",\"default\":0}]},{\"type\":\"model\",\"name\":\"copy_to_clipboard1\",\"properties\":[{\"name\":\"fill\",\"kind\":\"Any\",\"default\":\"none\"},{\"name\":\"value\",\"kind\":\"Any\",\"default\":null}]}]}};\n",
       "  var render_items = [{\"docid\":\"8d45e247-14c5-49cb-b7dc-0683420c08d9\",\"roots\":{\"p1008\":\"ac013fc2-e4ab-4c4f-9776-a8987880b5e8\"},\"root_ids\":[\"p1008\"]}];\n",
       "  var docs = Object.values(docs_json)\n",
       "  if (!docs) {\n",
       "    return\n",
       "  }\n",
       "  const py_version = docs[0].version.replace('rc', '-rc.').replace('.dev', '-dev.')\n",
       "  function embed_document(root) {\n",
       "    var Bokeh = get_bokeh(root)\n",
       "    Bokeh.embed.embed_items_notebook(docs_json, render_items);\n",
       "    for (const render_item of render_items) {\n",
       "      for (const root_id of render_item.root_ids) {\n",
       "\tconst id_el = document.getElementById(root_id)\n",
       "\tif (id_el.children.length && (id_el.children[0].className === 'bk-root')) {\n",
       "\t  const root_el = id_el.children[0]\n",
       "\t  root_el.id = root_el.id + '-rendered'\n",
       "\t}\n",
       "      }\n",
       "    }\n",
       "  }\n",
       "  function get_bokeh(root) {\n",
       "    if (root.Bokeh === undefined) {\n",
       "      return null\n",
       "    } else if (root.Bokeh.version !== py_version) {\n",
       "      if (root.Bokeh.versions === undefined || !root.Bokeh.versions.has(py_version)) {\n",
       "\treturn null\n",
       "      }\n",
       "      return root.Bokeh.versions.get(py_version);\n",
       "    } else if (root.Bokeh.version === py_version) {\n",
       "      return root.Bokeh\n",
       "    }\n",
       "    return null\n",
       "  }\n",
       "  function is_loaded(root) {\n",
       "    var Bokeh = get_bokeh(root)\n",
       "    return (Bokeh != null && Bokeh.Panel !== undefined)\n",
       "  }\n",
       "  if (is_loaded(root)) {\n",
       "    embed_document(root);\n",
       "  } else {\n",
       "    var attempts = 0;\n",
       "    var timer = setInterval(function(root) {\n",
       "      if (is_loaded(root)) {\n",
       "        clearInterval(timer);\n",
       "        embed_document(root);\n",
       "      } else if (document.readyState == \"complete\") {\n",
       "        attempts++;\n",
       "        if (attempts > 200) {\n",
       "          clearInterval(timer);\n",
       "\t  var Bokeh = get_bokeh(root)\n",
       "\t  if (Bokeh == null || Bokeh.Panel == null) {\n",
       "            console.warn(\"Panel: ERROR: Unable to run Panel code because Bokeh or Panel library is missing\");\n",
       "\t  } else {\n",
       "\t    console.warn(\"Panel: WARNING: Attempting to render but not all required libraries could be resolved.\")\n",
       "\t    embed_document(root)\n",
       "\t  }\n",
       "        }\n",
       "      }\n",
       "    }, 25, root)\n",
       "  }\n",
       "})(window);</script>"
      ],
      "text/plain": [
       "Select(name='Component name', options=['24h_microphysics', ...], value='24h_microphysics')"
      ]
     },
     "execution_count": 9,
     "metadata": {
      "application/vnd.holoviews_exec.v0+json": {
       "id": "p1008"
      }
     },
     "output_type": "execute_result"
    }
   ],
   "source": [
    "band_select_components"
   ]
  },
  {
   "cell_type": "code",
   "execution_count": 10,
   "metadata": {},
   "outputs": [],
   "source": [
    "def get_singleband_plot(bandname=None):\n",
    "    \n",
    "    scn.load([bandname])\n",
    "    result = scn[bandname]\n",
    "    interactive_plot = result.hvplot.image().opts(title=bandname)\n",
    "\n",
    "    return interactive_plot"
   ]
  },
  {
   "cell_type": "code",
   "execution_count": 11,
   "metadata": {},
   "outputs": [],
   "source": [
    "band_iplot = pn.bind(get_singleband_plot,bandname=band_select)\n",
    "component_iplot = pn.bind(get_singleband_plot, bandname=band_select_components)"
   ]
  },
  {
   "cell_type": "code",
   "execution_count": 12,
   "metadata": {},
   "outputs": [],
   "source": [
    "template = pn.template.MaterialTemplate(\n",
    "    #site=\"\",\n",
    "    title=\"Visualize GOES-R data\",\n",
    ")\n",
    "template.main.append(\n",
    "         pn.Row(\n",
    "            band_select,\n",
    "             band_iplot,\n",
    "             #band_select_components,\n",
    "             #component_iplot\n",
    "            #sizing_mode='stretch_both'\n",
    "            )\n",
    "        )"
   ]
  },
  {
   "cell_type": "code",
   "execution_count": null,
   "metadata": {},
   "outputs": [],
   "source": [
    "print(scn.available_composite_names())"
   ]
  },
  {
   "cell_type": "code",
   "execution_count": 14,
   "metadata": {},
   "outputs": [],
   "source": [
    "bandname = 'airmass'\n",
    "scn.load([bandname])\n",
    "result = scn[bandname]\n"
   ]
  },
  {
   "cell_type": "code",
   "execution_count": null,
   "metadata": {},
   "outputs": [],
   "source": [
    "scn.show(bandname)"
   ]
  },
  {
   "cell_type": "code",
   "execution_count": null,
   "metadata": {},
   "outputs": [],
   "source": [
    "scn[bandname].load()"
   ]
  },
  {
   "cell_type": "code",
   "execution_count": null,
   "metadata": {},
   "outputs": [],
   "source": [
    "result"
   ]
  },
  {
   "cell_type": "code",
   "execution_count": null,
   "metadata": {},
   "outputs": [],
   "source": [
    "result.data.plot.imshow()"
   ]
  },
  {
   "cell_type": "code",
   "execution_count": null,
   "metadata": {},
   "outputs": [],
   "source": [
    "da = result.data.load()"
   ]
  },
  {
   "cell_type": "code",
   "execution_count": null,
   "metadata": {},
   "outputs": [],
   "source": [
    "da[\"bands\"] = [0,1,2]"
   ]
  },
  {
   "cell_type": "code",
   "execution_count": null,
   "metadata": {},
   "outputs": [],
   "source": [
    "import numpy as np"
   ]
  },
  {
   "cell_type": "code",
   "execution_count": null,
   "metadata": {},
   "outputs": [],
   "source": [
    "np.floor(da*255)"
   ]
  },
  {
   "cell_type": "code",
   "execution_count": null,
   "metadata": {},
   "outputs": [],
   "source": [
    "np.floor(da*255).hvplot.rgb(x='x',y='y',bands='bands',colorbar=True,rasterize=True,dynamic=True)"
   ]
  },
  {
   "cell_type": "code",
   "execution_count": null,
   "metadata": {},
   "outputs": [],
   "source": [
    "from satpy.composites import get_enhanced_image\n",
    "\n",
    "result = get_enhanced_image(scn[bandname])\n"
   ]
  },
  {
   "cell_type": "raw",
   "metadata": {},
   "source": [
    "import holoviews as hv\n",
    "hv.RGB((da.x,da.y,da.sel(bands='G'),da.sel(bands='G'),da.sel(bands='R')))"
   ]
  },
  {
   "cell_type": "raw",
   "metadata": {},
   "source": [
    "da.assign_coords({'channel':"
   ]
  },
  {
   "cell_type": "raw",
   "metadata": {},
   "source": [
    "da.plot.imshow()"
   ]
  },
  {
   "cell_type": "raw",
   "metadata": {},
   "source": [
    "import boto3\n",
    "import botocore\n",
    "from datetime import datetime, timedelta\n",
    "import numpy as np\n",
    "import panel as pn\n",
    "from satpy import Scene\n",
    "\n",
    "# Initialize S3 client with unsigned requests\n",
    "client = boto3.client('s3', config=botocore.client.Config(signature_version=botocore.UNSIGNED))\n",
    "\n",
    "# Function to get the latest file based on user input date and time\n",
    "def get_latest_file(year, day_of_year, hour, time_min):\n",
    "    while hour >= 0:\n",
    "        prefix = f'ABI-L1b-RadC/{year}/{day_of_year:03d}/{hour:02d}/'\n",
    "        \n",
    "        # List objects in the specified path\n",
    "        result = client.list_objects_v2(Bucket='noaa-goes16', Prefix=prefix)\n",
    "        \n",
    "        if 'Contents' not in result:\n",
    "            hour -= 1\n",
    "            continue\n",
    "        \n",
    "        # Extract the minutes from the object keys\n",
    "        minute_of_observation = np.array([int(obj[\"Key\"].split(\"_\")[3][-5:-3]) for obj in result['Contents']])\n",
    "        \n",
    "        # Find the intersection of minutes within the desired range\n",
    "        intersecting_minutes = np.intersect1d(minute_of_observation, [num for num in range(time_min-4, time_min+1)])\n",
    "        \n",
    "        if len(intersecting_minutes) == 0:\n",
    "            hour -= 1\n",
    "            time_min = 60  # Reset minute to 60 to start searching the previous hour from the last minute\n",
    "            continue\n",
    "        \n",
    "        # Filter files within the intersecting minutes\n",
    "        files_within_minute = [obj for obj in result['Contents'] if int(obj[\"Key\"].split(\"_\")[3][-5:-3]) in intersecting_minutes]\n",
    "        \n",
    "        # Extract timestamps and get the most recent file\n",
    "        timestamps_of_files = np.array([obj[\"LastModified\"] for obj in files_within_minute])\n",
    "        most_recent_file = files_within_minute[timestamps_of_files.argmax()]\n",
    "        start_time_string = most_recent_file['Key'].split(\"_\")[3]\n",
    "        file_string = f'ABI-L1b-RadC/{year}/{day_of_year:03d}/{hour:02d}/*_G16_{start_time_string}*/'\n",
    "        filenames = [f's3://noaa-goes16/{file_string}']\n",
    "        \n",
    "        return filenames[0]\n",
    "    \n",
    "    return None\n",
    "\n",
    "# Panel UI for user input\n",
    "date_input = pn.widgets.DatePicker(name=\"Date\", value=datetime.now())\n",
    "time_input = pn.widgets.TimePicker(name=\"Time\", value=datetime.now().time())\n",
    "output = pn.widgets.Button(name=\"Get Latest File\")\n",
    "\n",
    "# Function to fetch the latest file when the button is clicked\n",
    "def fetch_latest_file(event):\n",
    "    user_date = date_input.value\n",
    "    user_time = time_input.value\n",
    "    \n",
    "    input_datetime = datetime.combine(user_date, user_time)\n",
    "    year = input_datetime.year\n",
    "    day_of_year = input_datetime.timetuple().tm_yday\n",
    "    hour = input_datetime.hour\n",
    "    minute = input_datetime.minute\n",
    "\n",
    "    latest_file = get_latest_file(year, day_of_year, hour, minute)\n",
    "    storage_options = {'anon': True}\n",
    "    scn = Scene(reader='abi_l1b', filenames=[latest_file], reader_kwargs={'storage_options': storage_options})\n",
    "    \n",
    "    if latest_file is None:\n",
    "        rgb_im = None\n",
    "    else:\n",
    "        scn.load(scn.all_dataset_names())\n",
    "        rgb_im = 'airmass'\n",
    "        scn.load([rgb_im])\n",
    "    \n",
    "    output.text = f\"Latest file fetched: {latest_file}.\"\n",
    "    return pn.pane.HoloViews(scn.show(rgb_im)) if latest_file else \"No file found.\"\n",
    "\n",
    "output.on_click(fetch_latest_file)\n",
    "\n",
    "# Panel template\n",
    "template = pn.template.MaterialTemplate(\n",
    "    title=\"Visualize GOES-R Data\",\n",
    "    main=[\n",
    "        pn.Row(date_input, time_input, output),\n",
    "        fetch_latest_file\n",
    "    ]\n",
    ")\n",
    "\n"
   ]
  },
  {
   "cell_type": "code",
   "execution_count": 19,
   "metadata": {},
   "outputs": [],
   "source": [
    "import pandas as pd\n",
    "import hvplot.pandas\n",
    "import numpy as np\n"
   ]
  },
  {
   "cell_type": "code",
   "execution_count": 20,
   "metadata": {},
   "outputs": [
    {
     "data": {},
     "metadata": {},
     "output_type": "display_data"
    },
    {
     "data": {
      "application/vnd.holoviews_exec.v0+json": "",
      "text/html": [
       "<div id='p1013'>\n",
       "  <div id=\"a072bd41-b735-4ee9-96c0-38e7565e6810\" data-root-id=\"p1013\" style=\"display: contents;\"></div>\n",
       "</div>\n",
       "<script type=\"application/javascript\">(function(root) {\n",
       "  var docs_json = {\"db4ed7aa-00e0-4bf0-8a31-c1946c2cf9bd\":{\"version\":\"3.4.1\",\"title\":\"Bokeh Application\",\"roots\":[{\"type\":\"object\",\"name\":\"TextInput\",\"id\":\"p1013\",\"attributes\":{\"stylesheets\":[\"\\n:host(.pn-loading):before, .pn-loading:before {\\n  background-color: #c3c3c3;\\n  mask-size: auto calc(min(50%, 400px));\\n  -webkit-mask-size: auto calc(min(50%, 400px));\\n}\",{\"type\":\"object\",\"name\":\"ImportedStyleSheet\",\"id\":\"p1012\",\"attributes\":{\"url\":\"https://cdn.holoviz.org/panel/1.4.2/dist/css/loading.css\"}},{\"type\":\"object\",\"name\":\"ImportedStyleSheet\",\"id\":\"p1010\",\"attributes\":{\"url\":\"https://cdn.holoviz.org/panel/1.4.2/dist/bundled/theme/default.css\"}},{\"type\":\"object\",\"name\":\"ImportedStyleSheet\",\"id\":\"p1011\",\"attributes\":{\"url\":\"https://cdn.holoviz.org/panel/1.4.2/dist/bundled/theme/native.css\"}}],\"width\":300,\"min_width\":300,\"margin\":[5,10],\"align\":\"start\",\"title\":\"Datetime Input\",\"value\":\"2019-02-08 00:00:00\"}},{\"type\":\"object\",\"name\":\"panel.models.comm_manager.CommManager\",\"id\":\"p1014\",\"attributes\":{\"plot_id\":\"p1013\",\"comm_id\":\"f0bbb04e96034db58761069d680c1494\",\"client_comm_id\":\"87d507c03490434b861c2421a6875274\"}}],\"defs\":[{\"type\":\"model\",\"name\":\"ReactiveHTML1\"},{\"type\":\"model\",\"name\":\"FlexBox1\",\"properties\":[{\"name\":\"align_content\",\"kind\":\"Any\",\"default\":\"flex-start\"},{\"name\":\"align_items\",\"kind\":\"Any\",\"default\":\"flex-start\"},{\"name\":\"flex_direction\",\"kind\":\"Any\",\"default\":\"row\"},{\"name\":\"flex_wrap\",\"kind\":\"Any\",\"default\":\"wrap\"},{\"name\":\"gap\",\"kind\":\"Any\",\"default\":\"\"},{\"name\":\"justify_content\",\"kind\":\"Any\",\"default\":\"flex-start\"}]},{\"type\":\"model\",\"name\":\"FloatPanel1\",\"properties\":[{\"name\":\"config\",\"kind\":\"Any\",\"default\":{\"type\":\"map\"}},{\"name\":\"contained\",\"kind\":\"Any\",\"default\":true},{\"name\":\"position\",\"kind\":\"Any\",\"default\":\"right-top\"},{\"name\":\"offsetx\",\"kind\":\"Any\",\"default\":null},{\"name\":\"offsety\",\"kind\":\"Any\",\"default\":null},{\"name\":\"theme\",\"kind\":\"Any\",\"default\":\"primary\"},{\"name\":\"status\",\"kind\":\"Any\",\"default\":\"normalized\"}]},{\"type\":\"model\",\"name\":\"GridStack1\",\"properties\":[{\"name\":\"mode\",\"kind\":\"Any\",\"default\":\"warn\"},{\"name\":\"ncols\",\"kind\":\"Any\",\"default\":null},{\"name\":\"nrows\",\"kind\":\"Any\",\"default\":null},{\"name\":\"allow_resize\",\"kind\":\"Any\",\"default\":true},{\"name\":\"allow_drag\",\"kind\":\"Any\",\"default\":true},{\"name\":\"state\",\"kind\":\"Any\",\"default\":[]}]},{\"type\":\"model\",\"name\":\"drag1\",\"properties\":[{\"name\":\"slider_width\",\"kind\":\"Any\",\"default\":5},{\"name\":\"slider_color\",\"kind\":\"Any\",\"default\":\"black\"},{\"name\":\"value\",\"kind\":\"Any\",\"default\":50}]},{\"type\":\"model\",\"name\":\"click1\",\"properties\":[{\"name\":\"terminal_output\",\"kind\":\"Any\",\"default\":\"\"},{\"name\":\"debug_name\",\"kind\":\"Any\",\"default\":\"\"},{\"name\":\"clears\",\"kind\":\"Any\",\"default\":0}]},{\"type\":\"model\",\"name\":\"FastWrapper1\",\"properties\":[{\"name\":\"object\",\"kind\":\"Any\",\"default\":null},{\"name\":\"style\",\"kind\":\"Any\",\"default\":null}]},{\"type\":\"model\",\"name\":\"NotificationAreaBase1\",\"properties\":[{\"name\":\"js_events\",\"kind\":\"Any\",\"default\":{\"type\":\"map\"}},{\"name\":\"position\",\"kind\":\"Any\",\"default\":\"bottom-right\"},{\"name\":\"_clear\",\"kind\":\"Any\",\"default\":0}]},{\"type\":\"model\",\"name\":\"NotificationArea1\",\"properties\":[{\"name\":\"js_events\",\"kind\":\"Any\",\"default\":{\"type\":\"map\"}},{\"name\":\"notifications\",\"kind\":\"Any\",\"default\":[]},{\"name\":\"position\",\"kind\":\"Any\",\"default\":\"bottom-right\"},{\"name\":\"_clear\",\"kind\":\"Any\",\"default\":0},{\"name\":\"types\",\"kind\":\"Any\",\"default\":[{\"type\":\"map\",\"entries\":[[\"type\",\"warning\"],[\"background\",\"#ffc107\"],[\"icon\",{\"type\":\"map\",\"entries\":[[\"className\",\"fas fa-exclamation-triangle\"],[\"tagName\",\"i\"],[\"color\",\"white\"]]}]]},{\"type\":\"map\",\"entries\":[[\"type\",\"info\"],[\"background\",\"#007bff\"],[\"icon\",{\"type\":\"map\",\"entries\":[[\"className\",\"fas fa-info-circle\"],[\"tagName\",\"i\"],[\"color\",\"white\"]]}]]}]}]},{\"type\":\"model\",\"name\":\"Notification\",\"properties\":[{\"name\":\"background\",\"kind\":\"Any\",\"default\":null},{\"name\":\"duration\",\"kind\":\"Any\",\"default\":3000},{\"name\":\"icon\",\"kind\":\"Any\",\"default\":null},{\"name\":\"message\",\"kind\":\"Any\",\"default\":\"\"},{\"name\":\"notification_type\",\"kind\":\"Any\",\"default\":null},{\"name\":\"_destroyed\",\"kind\":\"Any\",\"default\":false}]},{\"type\":\"model\",\"name\":\"TemplateActions1\",\"properties\":[{\"name\":\"open_modal\",\"kind\":\"Any\",\"default\":0},{\"name\":\"close_modal\",\"kind\":\"Any\",\"default\":0}]},{\"type\":\"model\",\"name\":\"BootstrapTemplateActions1\",\"properties\":[{\"name\":\"open_modal\",\"kind\":\"Any\",\"default\":0},{\"name\":\"close_modal\",\"kind\":\"Any\",\"default\":0}]},{\"type\":\"model\",\"name\":\"TemplateEditor1\",\"properties\":[{\"name\":\"layout\",\"kind\":\"Any\",\"default\":[]}]},{\"type\":\"model\",\"name\":\"MaterialTemplateActions1\",\"properties\":[{\"name\":\"open_modal\",\"kind\":\"Any\",\"default\":0},{\"name\":\"close_modal\",\"kind\":\"Any\",\"default\":0}]},{\"type\":\"model\",\"name\":\"copy_to_clipboard1\",\"properties\":[{\"name\":\"fill\",\"kind\":\"Any\",\"default\":\"none\"},{\"name\":\"value\",\"kind\":\"Any\",\"default\":null}]}]}};\n",
       "  var render_items = [{\"docid\":\"db4ed7aa-00e0-4bf0-8a31-c1946c2cf9bd\",\"roots\":{\"p1013\":\"a072bd41-b735-4ee9-96c0-38e7565e6810\"},\"root_ids\":[\"p1013\"]}];\n",
       "  var docs = Object.values(docs_json)\n",
       "  if (!docs) {\n",
       "    return\n",
       "  }\n",
       "  const py_version = docs[0].version.replace('rc', '-rc.').replace('.dev', '-dev.')\n",
       "  function embed_document(root) {\n",
       "    var Bokeh = get_bokeh(root)\n",
       "    Bokeh.embed.embed_items_notebook(docs_json, render_items);\n",
       "    for (const render_item of render_items) {\n",
       "      for (const root_id of render_item.root_ids) {\n",
       "\tconst id_el = document.getElementById(root_id)\n",
       "\tif (id_el.children.length && (id_el.children[0].className === 'bk-root')) {\n",
       "\t  const root_el = id_el.children[0]\n",
       "\t  root_el.id = root_el.id + '-rendered'\n",
       "\t}\n",
       "      }\n",
       "    }\n",
       "  }\n",
       "  function get_bokeh(root) {\n",
       "    if (root.Bokeh === undefined) {\n",
       "      return null\n",
       "    } else if (root.Bokeh.version !== py_version) {\n",
       "      if (root.Bokeh.versions === undefined || !root.Bokeh.versions.has(py_version)) {\n",
       "\treturn null\n",
       "      }\n",
       "      return root.Bokeh.versions.get(py_version);\n",
       "    } else if (root.Bokeh.version === py_version) {\n",
       "      return root.Bokeh\n",
       "    }\n",
       "    return null\n",
       "  }\n",
       "  function is_loaded(root) {\n",
       "    var Bokeh = get_bokeh(root)\n",
       "    return (Bokeh != null && Bokeh.Panel !== undefined)\n",
       "  }\n",
       "  if (is_loaded(root)) {\n",
       "    embed_document(root);\n",
       "  } else {\n",
       "    var attempts = 0;\n",
       "    var timer = setInterval(function(root) {\n",
       "      if (is_loaded(root)) {\n",
       "        clearInterval(timer);\n",
       "        embed_document(root);\n",
       "      } else if (document.readyState == \"complete\") {\n",
       "        attempts++;\n",
       "        if (attempts > 200) {\n",
       "          clearInterval(timer);\n",
       "\t  var Bokeh = get_bokeh(root)\n",
       "\t  if (Bokeh == null || Bokeh.Panel == null) {\n",
       "            console.warn(\"Panel: ERROR: Unable to run Panel code because Bokeh or Panel library is missing\");\n",
       "\t  } else {\n",
       "\t    console.warn(\"Panel: WARNING: Attempting to render but not all required libraries could be resolved.\")\n",
       "\t    embed_document(root)\n",
       "\t  }\n",
       "        }\n",
       "      }\n",
       "    }, 25, root)\n",
       "  }\n",
       "})(window);</script>"
      ],
      "text/plain": [
       "DatetimeInput(name='Datetime Input', type=<class 'datetime.datetime'..., value=datetime.datetime(2019, ...)"
      ]
     },
     "execution_count": 20,
     "metadata": {
      "application/vnd.holoviews_exec.v0+json": {
       "id": "p1013"
      }
     },
     "output_type": "execute_result"
    }
   ],
   "source": [
    "dt_input = pn.widgets.DatetimeInput(name='Datetime Input',value=datetime(2019, 2, 8))\n",
    "dt_input"
   ]
  },
  {
   "cell_type": "code",
   "execution_count": 21,
   "metadata": {},
   "outputs": [],
   "source": [
    "def date_print(date=None):\n",
    "    \n",
    "    print(date)\n",
    "\n",
    "    index = pd.date_range('1/1/2000', periods=1000)\n",
    "    df = pd.DataFrame(np.random.randn(1000, 4), index=index, columns=list('ABCD')).cumsum()\n",
    "    \n",
    "    retplot = df.hvplot(title=date.strftime('%Y-%m-%d %H:%M'))\n",
    "\n",
    "    return retplot\n",
    "    \n",
    "dummypane = pn.bind(date_print,date=dt_input)"
   ]
  },
  {
   "cell_type": "code",
   "execution_count": 22,
   "metadata": {},
   "outputs": [
    {
     "name": "stdout",
     "output_type": "stream",
     "text": [
      "2019-02-08 00:00:00\n"
     ]
    }
   ],
   "source": [
    "template = pn.template.MaterialTemplate(\n",
    "    #site=\"\",\n",
    "    title=\"Visualize GOES-R data\",\n",
    ")\n",
    "# default='%Y-%m-%d %H:%M:%S'\n",
    "template.main.append(\n",
    "         pn.Row(\n",
    "            dt_input,\n",
    "             dummypane,\n",
    "            #band_select,\n",
    "            #band_iplot,\n",
    "             #band_select_components,\n",
    "             #component_iplot\n",
    "            sizing_mode='stretch_both'\n",
    "            )\n",
    "        )"
   ]
  },
  {
   "cell_type": "code",
   "execution_count": 23,
   "metadata": {},
   "outputs": [
    {
     "data": {},
     "metadata": {},
     "output_type": "display_data"
    },
    {
     "data": {},
     "metadata": {},
     "output_type": "display_data"
    },
    {
     "data": {
      "application/vnd.holoviews_exec.v0+json": "",
      "text/html": [
       "<!DOCTYPE html>\n",
       "<html lang=\"en\" >\n",
       "  <head>\n",
       "    <meta charset=\"utf-8\">\n",
       "    <title>Panel App</title>\n",
       "    <link rel=\"apple-touch-icon\" sizes=\"180x180\" href=\"images/apple-touch-icon.png\">\n",
       "    <link rel=\"icon\" href=\"/static/extensions/panel/images/favicon.ico\" type=\"\">\n",
       "    <meta name=\"name\" content=\"Visualize GOES-R data\">\n",
       "    <style>\n",
       "      html, body {\n",
       "\tdisplay: flow-root;\n",
       "        box-sizing: border-box;\n",
       "        height: 100%;\n",
       "        margin: 0;\n",
       "        padding: 0;\n",
       "      }\n",
       "    </style>\n",
       "    <!-- Template CSS -->\n",
       "    <link rel=\"stylesheet\" href=\"static/extensions/panel/css/loadingspinner.css?v=1.4.2\">\n",
       "    <link rel=\"stylesheet\" href=\"static/extensions/panel/css/listpanel.css?v=1.4.2\">\n",
       "    <link rel=\"stylesheet\" href=\"static/extensions/panel/css/loading.css?v=1.4.2\">\n",
       "    <link rel=\"stylesheet\" href=\"static/extensions/panel/bundled/material-components-web@7.0.0/dist/material-components-web.min.css\">\n",
       "    <link rel=\"stylesheet\" href=\"https://fonts.googleapis.com/css?family=Roboto:300,400,500\">\n",
       "    <link rel=\"stylesheet\" href=\"https://fonts.googleapis.com/css?family=Material+Icons&display=block\">\n",
       "    <link rel=\"stylesheet\" href=\"static/extensions/panel/bundled/theme/default.css?v=1.4.2\">\n",
       "    <link rel=\"stylesheet\" href=\"static/extensions/panel/bundled/theme/material_variables.css?v=1.4.2\">\n",
       "    <link rel=\"stylesheet\" href=\"static/extensions/panel/bundled/materialtemplate/material.css?v=1.4.2\">\n",
       "\n",
       "<style>\n",
       ":root {\n",
       "  --header-background: var(--design-primary-color, var(--panel-primary-color));\n",
       "  --header-color: var(--design-primary-text-color, var(--panel-on-primary-color));\n",
       "  --sidebar-width: 370px;\n",
       "}\n",
       "#header {\n",
       "  --mdc-theme-background: var(--header-background);\n",
       "  --mdc-theme-on-background: var(--header-color);\n",
       "  --design-background-text-color: var(--header-color);\n",
       "  --design-background-color: var(--header-background);\n",
       "  background-color: var(--header-background);\n",
       "  color: var(--header-color);\n",
       "}\n",
       ".mdc-drawer {\n",
       "  width: var(--sidebar-width) !important;\n",
       "}\n",
       ".mdc-drawer.mdc-drawer--open:not(.mdc-drawer--closing)+.mdc-drawer-app-content {\n",
       "  margin-left: var(--sidebar-width) !important;\n",
       "}\n",
       "</style>\n",
       "\n",
       "    <style type=\"text/css\">\n",
       "    \n",
       ":host(.pn-loading):before, .pn-loading:before {\n",
       "  background-color: #c3c3c3;\n",
       "  mask-size: auto calc(min(50%, 400px));\n",
       "  -webkit-mask-size: auto calc(min(50%, 400px));\n",
       "}\n",
       "    </style>\n",
       "\n",
       "    <!-- Template JS -->\n",
       "    <script src=\"static/extensions/panel/bundled/material-components-web@7.0.0/dist/material-components-web.min.js\"></script>\n",
       "\n",
       "  </head>\n",
       "  <body>\n",
       "<div class=\"mdc-typography\" id=\"container\">\n",
       "  <header class=\"mdc-top-app-bar app-bar mdc-top-app-bar--fixed\" id=\"header\">\n",
       "    <div class=\"mdc-top-app-bar__row\">\n",
       "      <section class=\"mdc-top-app-bar__section mdc-top-app-bar__section--align-start\">\n",
       "\t<div class=\"title-bar\">\n",
       "          <span class=\"mdc-top-app-bar__title app-header\">\n",
       "<a class=\"title\" href=\"\" >&nbsp;Visualize GOES-R data</a>          </span>\n",
       "          <div id=\"header-items\">\n",
       "          </div>\n",
       "        </div>\n",
       "      </section>\n",
       "      <div class=\"pn-busy-container\">\n",
       "\t<div id=\"cc96a832-7eee-41c8-978e-2a7bbbc8fc80\" data-root-id=\"p1029\" style=\"display: contents;\"></div>\n",
       "      </div>\n",
       "    </div>\n",
       "  </header>\n",
       "\n",
       "\n",
       "  <div class=\"mdc-drawer-app-content mdc-top-app-bar--fixed-adjust\">\n",
       "    <main class=\"main-content\" id=\"main\">\n",
       "      <div id=\"c08a5171-93c7-4d4b-a70a-fd5bc8b58a53\" data-root-id=\"p1030\" style=\"display: contents;\"></div>\n",
       "    </main>\n",
       "\n",
       "    <div id=\"pn-Modal\" class=\"mdc-dialog\">\n",
       "      <div class=\"mdc-dialog__container\">\n",
       "\t<div class=\"mdc-dialog__surface\" role=\"alertdialog\" aria-modal=\"true\">\n",
       "\t  <div class=\"mdc-dialog__content\" id=\"my-dialog-content\">\n",
       "\t  </div>\n",
       "\t</div>\n",
       "      </div>\n",
       "    </div>\n",
       "  </div>\n",
       "\n",
       "  <script type=\"text/javascript\">\n",
       "\n",
       "    var modal_el = document.getElementById(\"pn-Modal\");\n",
       "    var modal = new mdc.dialog.MDCDialog(modal_el);\n",
       "\n",
       "    window.onclick = function(event) {\n",
       "      if (event.target == modal_el) {\n",
       "\tmodal.close();\n",
       "      }\n",
       "    }\n",
       "  </script>\n",
       "\n",
       "  <div id=\"f01cd0a2-4128-4b7d-b859-5d7e337c44bc\" data-root-id=\"p1022\" style=\"display: contents;\"></div>\n",
       "<div id=\"a55fada2-138f-4774-b95b-a9eb59ce104d\" data-root-id=\"p1025\" style=\"display: contents;\"></div>\n",
       "<div id=\"fb4ba334-d35f-4bd0-beae-c40b3fd17e4b\" data-root-id=\"p1015\" style=\"display: contents;\"></div>\n",
       "<div id=\"cc0e7c16-6660-4b83-b09c-274a5063f72f\" data-root-id=\"p1026\" style=\"display: contents;\"></div>\n",
       "\n",
       "</div>\n",
       "  \n",
       "    <script type=\"application/json\" id=\"p1194\">\n",
       "      {\"8d1dadf6-bab0-4ba8-a023-d5047636d8af\":{\"version\":\"3.4.1\",\"title\":\"Visualize GOES-R data\",\"roots\":[{\"type\":\"object\",\"name\":\"panel.models.location.Location\",\"id\":\"p1015\",\"attributes\":{\"name\":\"location\",\"reload\":false}},{\"type\":\"object\",\"name\":\"panel.models.markup.HTML\",\"id\":\"p1022\",\"attributes\":{\"name\":\"js_area\",\"stylesheets\":[\"\\n:host(.pn-loading):before, .pn-loading:before {\\n  background-color: #c3c3c3;\\n  mask-size: auto calc(min(50%, 400px));\\n  -webkit-mask-size: auto calc(min(50%, 400px));\\n}\",{\"type\":\"object\",\"name\":\"ImportedStyleSheet\",\"id\":\"p1161\",\"attributes\":{\"url\":\"https://cdn.holoviz.org/panel/1.4.2/dist/css/loading.css\"}},{\"type\":\"object\",\"name\":\"ImportedStyleSheet\",\"id\":\"p1158\",\"attributes\":{\"url\":\"https://cdn.holoviz.org/panel/1.4.2/dist/bundled/theme/material.css\"}}],\"width\":0,\"height\":0,\"margin\":0,\"sizing_mode\":\"fixed\",\"align\":\"start\",\"disable_math\":true}},{\"type\":\"object\",\"name\":\"panel.models.reactive_html.ReactiveHTML\",\"id\":\"p1025\",\"attributes\":{\"name\":\"actions\",\"subscribed_events\":{\"type\":\"set\",\"entries\":[\"dom_event\"]},\"stylesheets\":[\"\\n:host(.pn-loading):before, .pn-loading:before {\\n  background-color: #c3c3c3;\\n  mask-size: auto calc(min(50%, 400px));\\n  -webkit-mask-size: auto calc(min(50%, 400px));\\n}\",{\"type\":\"object\",\"name\":\"ImportedStyleSheet\",\"id\":\"p1162\",\"attributes\":{\"url\":\"https://cdn.holoviz.org/panel/1.4.2/dist/css/loading.css\"}},{\"id\":\"p1158\"}],\"margin\":0,\"align\":\"start\",\"data\":{\"type\":\"object\",\"name\":\"MaterialTemplateActions1\",\"id\":\"p1023\",\"attributes\":{\"name\":\"MaterialTemplateActions00965\"}},\"scripts\":{\"type\":\"map\",\"entries\":[[\"open_modal\",[\"modal.open();\\nsetTimeout(function() {{\\n  window.dispatchEvent(new Event(&amp;#x27;resize&amp;#x27;));\\n}}, 200);\"]],[\"close_modal\",[\"modal.close()\"]]]}}},{\"type\":\"object\",\"name\":\"panel.models.browser.BrowserInfo\",\"id\":\"p1026\",\"attributes\":{\"name\":\"browser_info\"}},{\"type\":\"object\",\"name\":\"panel.models.markup.HTML\",\"id\":\"p1029\",\"attributes\":{\"name\":\"busy_indicator\",\"css_classes\":[\"loader\",\"light\"],\"stylesheets\":[\":host { --loading-spinner-size: 20px; }\",\"\\n:host(.pn-loading):before, .pn-loading:before {\\n  background-color: #c3c3c3;\\n  mask-size: auto calc(min(50%, 400px));\\n  -webkit-mask-size: auto calc(min(50%, 400px));\\n}\",{\"type\":\"object\",\"name\":\"ImportedStyleSheet\",\"id\":\"p1163\",\"attributes\":{\"url\":\"https://cdn.holoviz.org/panel/1.4.2/dist/css/loading.css\"}},{\"type\":\"object\",\"name\":\"ImportedStyleSheet\",\"id\":\"p1164\",\"attributes\":{\"url\":\"https://cdn.holoviz.org/panel/1.4.2/dist/css/loadingspinner.css\"}},{\"id\":\"p1158\"}],\"min_width\":20,\"min_height\":20,\"margin\":[5,10],\"align\":\"start\"}},{\"type\":\"object\",\"name\":\"Row\",\"id\":\"p1030\",\"attributes\":{\"name\":\"main-139833745848912\",\"tags\":[\"main\"],\"stylesheets\":[\"\\n:host(.pn-loading):before, .pn-loading:before {\\n  background-color: #c3c3c3;\\n  mask-size: auto calc(min(50%, 400px));\\n  -webkit-mask-size: auto calc(min(50%, 400px));\\n}\",{\"type\":\"object\",\"name\":\"ImportedStyleSheet\",\"id\":\"p1165\",\"attributes\":{\"url\":\"https://cdn.holoviz.org/panel/1.4.2/dist/css/loading.css\"}},{\"type\":\"object\",\"name\":\"ImportedStyleSheet\",\"id\":\"p1166\",\"attributes\":{\"url\":\"https://cdn.holoviz.org/panel/1.4.2/dist/css/listpanel.css\"}},{\"id\":\"p1158\"}],\"min_width\":300,\"margin\":0,\"sizing_mode\":\"stretch_both\",\"align\":\"start\",\"children\":[{\"type\":\"object\",\"name\":\"TextInput\",\"id\":\"p1032\",\"attributes\":{\"stylesheets\":[\"\\n:host(.pn-loading):before, .pn-loading:before {\\n  background-color: #c3c3c3;\\n  mask-size: auto calc(min(50%, 400px));\\n  -webkit-mask-size: auto calc(min(50%, 400px));\\n}\",{\"type\":\"object\",\"name\":\"ImportedStyleSheet\",\"id\":\"p1167\",\"attributes\":{\"url\":\"https://cdn.holoviz.org/panel/1.4.2/dist/css/loading.css\"}},{\"id\":\"p1158\"}],\"width\":300,\"min_width\":300,\"margin\":[5,10],\"align\":\"start\",\"title\":\"Datetime Input\",\"value\":\"2019-02-08 00:00:00\"}},{\"type\":\"object\",\"name\":\"panel.models.layout.Column\",\"id\":\"p1033\",\"attributes\":{\"name\":\"Column00980\",\"stylesheets\":[\"\\n:host(.pn-loading):before, .pn-loading:before {\\n  background-color: #c3c3c3;\\n  mask-size: auto calc(min(50%, 400px));\\n  -webkit-mask-size: auto calc(min(50%, 400px));\\n}\",{\"type\":\"object\",\"name\":\"ImportedStyleSheet\",\"id\":\"p1182\",\"attributes\":{\"url\":\"https://cdn.holoviz.org/panel/1.4.2/dist/css/loading.css\"}},{\"type\":\"object\",\"name\":\"ImportedStyleSheet\",\"id\":\"p1183\",\"attributes\":{\"url\":\"https://cdn.holoviz.org/panel/1.4.2/dist/css/listpanel.css\"}},{\"id\":\"p1158\"}],\"margin\":0,\"sizing_mode\":\"fixed\",\"align\":\"start\",\"children\":[{\"type\":\"object\",\"name\":\"Figure\",\"id\":\"p1050\",\"attributes\":{\"name\":\"ParamFunction00976\",\"stylesheets\":[\"\\n:host(.pn-loading):before, .pn-loading:before {\\n  background-color: #c3c3c3;\\n  mask-size: auto calc(min(50%, 400px));\\n  -webkit-mask-size: auto calc(min(50%, 400px));\\n}\",{\"type\":\"object\",\"name\":\"ImportedStyleSheet\",\"id\":\"p1171\",\"attributes\":{\"url\":\"https://cdn.holoviz.org/panel/1.4.2/dist/css/loading.css\"}},{\"id\":\"p1158\"}],\"width\":700,\"height\":300,\"margin\":[5,10],\"sizing_mode\":\"fixed\",\"align\":\"start\",\"x_range\":{\"type\":\"object\",\"name\":\"Range1d\",\"id\":\"p1034\",\"attributes\":{\"tags\":[[[\"index\",\"index\",null]],[]],\"start\":946684800000.0,\"end\":1032998400000.0,\"reset_start\":946684800000.0,\"reset_end\":1032998400000.0}},\"y_range\":{\"type\":\"object\",\"name\":\"Range1d\",\"id\":\"p1035\",\"attributes\":{\"tags\":[[[\"value\",\"value\",null]],{\"type\":\"map\",\"entries\":[[\"invert_yaxis\",false],[\"autorange\",false]]}],\"start\":-97.71853911793141,\"end\":57.71421315482175,\"reset_start\":-97.71853911793141,\"reset_end\":57.71421315482175}},\"x_scale\":{\"type\":\"object\",\"name\":\"LinearScale\",\"id\":\"p1060\"},\"y_scale\":{\"type\":\"object\",\"name\":\"LinearScale\",\"id\":\"p1061\"},\"title\":{\"type\":\"object\",\"name\":\"Title\",\"id\":\"p1053\",\"attributes\":{\"text\":\"2019-02-08 00:00\",\"text_font\":\"Roboto, sans-serif, Verdana\",\"text_font_size\":\"1.15em\"}},\"renderers\":[{\"type\":\"object\",\"name\":\"GlyphRenderer\",\"id\":\"p1102\",\"attributes\":{\"name\":\"A\",\"data_source\":{\"type\":\"object\",\"name\":\"ColumnDataSource\",\"id\":\"p1093\",\"attributes\":{\"selected\":{\"type\":\"object\",\"name\":\"Selection\",\"id\":\"p1094\",\"attributes\":{\"indices\":[],\"line_indices\":[]}},\"selection_policy\":{\"type\":\"object\",\"name\":\"UnionRenderers\",\"id\":\"p1095\"},\"data\":{\"type\":\"map\",\"entries\":[[\"index\",{\"type\":\"ndarray\",\"array\":{\"type\":\"bytes\",\"data\":\"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\"},\"shape\":[1000],\"dtype\":\"float64\",\"order\":\"little\"}],[\"value\",{\"type\":\"ndarray\",\"array\":{\"type\":\"bytes\",\"data\":\"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\"},\"shape\":[1000],\"dtype\":\"float64\",\"order\":\"little\"}],[\"Variable\",[\"A\",\"A\",\"A\",\"A\",\"A\",\"A\",\"A\",\"A\",\"A\",\"A\",\"A\",\"A\",\"A\",\"A\",\"A\",\"A\",\"A\",\"A\",\"A\",\"A\",\"A\",\"A\",\"A\",\"A\",\"A\",\"A\",\"A\",\"A\",\"A\",\"A\",\"A\",\"A\",\"A\",\"A\",\"A\",\"A\",\"A\",\"A\",\"A\",\"A\",\"A\",\"A\",\"A\",\"A\",\"A\",\"A\",\"A\",\"A\",\"A\",\"A\",\"A\",\"A\",\"A\",\"A\",\"A\",\"A\",\"A\",\"A\",\"A\",\"A\",\"A\",\"A\",\"A\",\"A\",\"A\",\"A\",\"A\",\"A\",\"A\",\"A\",\"A\",\"A\",\"A\",\"A\",\"A\",\"A\",\"A\",\"A\",\"A\",\"A\",\"A\",\"A\",\"A\",\"A\",\"A\",\"A\",\"A\",\"A\",\"A\",\"A\",\"A\",\"A\",\"A\",\"A\",\"A\",\"A\",\"A\",\"A\",\"A\",\"A\",\"A\",\"A\",\"A\",\"A\",\"A\",\"A\",\"A\",\"A\",\"A\",\"A\",\"A\",\"A\",\"A\",\"A\",\"A\",\"A\",\"A\",\"A\",\"A\",\"A\",\"A\",\"A\",\"A\",\"A\",\"A\",\"A\",\"A\",\"A\",\"A\",\"A\",\"A\",\"A\",\"A\",\"A\",\"A\",\"A\",\"A\",\"A\",\"A\",\"A\",\"A\",\"A\",\"A\",\"A\",\"A\",\"A\",\"A\",\"A\",\"A\",\"A\",\"A\",\"A\",\"A\",\"A\",\"A\",\"A\",\"A\",\"A\",\"A\",\"A\",\"A\",\"A\",\"A\",\"A\",\"A\",\"A\",\"A\",\"A\",\"A\",\"A\",\"A\",\"A\",\"A\",\"A\",\"A\",\"A\",\"A\",\"A\",\"A\",\"A\",\"A\",\"A\",\"A\",\"A\",\"A\",\"A\",\"A\",\"A\",\"A\",\"A\",\"A\",\"A\",\"A\",\"A\",\"A\",\"A\",\"A\",\"A\",\"A\",\"A\",\"A\",\"A\",\"A\",\"A\",\"A\",\"A\",\"A\",\"A\",\"A\",\"A\",\"A\",\"A\",\"A\",\"A\",\"A\",\"A\",\"A\",\"A\",\"A\",\"A\",\"A\",\"A\",\"A\",\"A\",\"A\",\"A\",\"A\",\"A\",\"A\",\"A\",\"A\",\"A\",\"A\",\"A\",\"A\",\"A\",\"A\",\"A\",\"A\",\"A\",\"A\",\"A\",\"A\",\"A\",\"A\",\"A\",\"A\",\"A\",\"A\",\"A\",\"A\",\"A\",\"A\",\"A\",\"A\",\"A\",\"A\",\"A\",\"A\",\"A\",\"A\",\"A\",\"A\",\"A\",\"A\",\"A\",\"A\",\"A\",\"A\",\"A\",\"A\",\"A\",\"A\",\"A\",\"A\",\"A\",\"A\",\"A\",\"A\",\"A\",\"A\",\"A\",\"A\",\"A\",\"A\",\"A\",\"A\",\"A\",\"A\",\"A\",\"A\",\"A\",\"A\",\"A\",\"A\",\"A\",\"A\",\"A\",\"A\",\"A\",\"A\",\"A\",\"A\",\"A\",\"A\",\"A\",\"A\",\"A\",\"A\",\"A\",\"A\",\"A\",\"A\",\"A\",\"A\",\"A\",\"A\",\"A\",\"A\",\"A\",\"A\",\"A\",\"A\",\"A\",\"A\",\"A\",\"A\",\"A\",\"A\",\"A\",\"A\",\"A\",\"A\",\"A\",\"A\",\"A\",\"A\",\"A\",\"A\",\"A\",\"A\",\"A\",\"A\",\"A\",\"A\",\"A\",\"A\",\"A\",\"A\",\"A\",\"A\",\"A\",\"A\",\"A\",\"A\",\"A\",\"A\",\"A\",\"A\",\"A\",\"A\",\"A\",\"A\",\"A\",\"A\",\"A\",\"A\",\"A\",\"A\",\"A\",\"A\",\"A\",\"A\",\"A\",\"A\",\"A\",\"A\",\"A\",\"A\",\"A\",\"A\",\"A\",\"A\",\"A\",\"A\",\"A\",\"A\",\"A\",\"A\",\"A\",\"A\",\"A\",\"A\",\"A\",\"A\",\"A\",\"A\",\"A\",\"A\",\"A\",\"A\",\"A\",\"A\",\"A\",\"A\",\"A\",\"A\",\"A\",\"A\",\"A\",\"A\",\"A\",\"A\",\"A\",\"A\",\"A\",\"A\",\"A\",\"A\",\"A\",\"A\",\"A\",\"A\",\"A\",\"A\",\"A\",\"A\",\"A\",\"A\",\"A\",\"A\",\"A\",\"A\",\"A\",\"A\",\"A\",\"A\",\"A\",\"A\",\"A\",\"A\",\"A\",\"A\",\"A\",\"A\",\"A\",\"A\",\"A\",\"A\",\"A\",\"A\",\"A\",\"A\",\"A\",\"A\",\"A\",\"A\",\"A\",\"A\",\"A\",\"A\",\"A\",\"A\",\"A\",\"A\",\"A\",\"A\",\"A\",\"A\",\"A\",\"A\",\"A\",\"A\",\"A\",\"A\",\"A\",\"A\",\"A\",\"A\",\"A\",\"A\",\"A\",\"A\",\"A\",\"A\",\"A\",\"A\",\"A\",\"A\",\"A\",\"A\",\"A\",\"A\",\"A\",\"A\",\"A\",\"A\",\"A\",\"A\",\"A\",\"A\",\"A\",\"A\",\"A\",\"A\",\"A\",\"A\",\"A\",\"A\",\"A\",\"A\",\"A\",\"A\",\"A\",\"A\",\"A\",\"A\",\"A\",\"A\",\"A\",\"A\",\"A\",\"A\",\"A\",\"A\",\"A\",\"A\",\"A\",\"A\",\"A\",\"A\",\"A\",\"A\",\"A\",\"A\",\"A\",\"A\",\"A\",\"A\",\"A\",\"A\",\"A\",\"A\",\"A\",\"A\",\"A\",\"A\",\"A\",\"A\",\"A\",\"A\",\"A\",\"A\",\"A\",\"A\",\"A\",\"A\",\"A\",\"A\",\"A\",\"A\",\"A\",\"A\",\"A\",\"A\",\"A\",\"A\",\"A\",\"A\",\"A\",\"A\",\"A\",\"A\",\"A\",\"A\",\"A\",\"A\",\"A\",\"A\",\"A\",\"A\",\"A\",\"A\",\"A\",\"A\",\"A\",\"A\",\"A\",\"A\",\"A\",\"A\",\"A\",\"A\",\"A\",\"A\",\"A\",\"A\",\"A\",\"A\",\"A\",\"A\",\"A\",\"A\",\"A\",\"A\",\"A\",\"A\",\"A\",\"A\",\"A\",\"A\",\"A\",\"A\",\"A\",\"A\",\"A\",\"A\",\"A\",\"A\",\"A\",\"A\",\"A\",\"A\",\"A\",\"A\",\"A\",\"A\",\"A\",\"A\",\"A\",\"A\",\"A\",\"A\",\"A\",\"A\",\"A\",\"A\",\"A\",\"A\",\"A\",\"A\",\"A\",\"A\",\"A\",\"A\",\"A\",\"A\",\"A\",\"A\",\"A\",\"A\",\"A\",\"A\",\"A\",\"A\",\"A\",\"A\",\"A\",\"A\",\"A\",\"A\",\"A\",\"A\",\"A\",\"A\",\"A\",\"A\",\"A\",\"A\",\"A\",\"A\",\"A\",\"A\",\"A\",\"A\",\"A\",\"A\",\"A\",\"A\",\"A\",\"A\",\"A\",\"A\",\"A\",\"A\",\"A\",\"A\",\"A\",\"A\",\"A\",\"A\",\"A\",\"A\",\"A\",\"A\",\"A\",\"A\",\"A\",\"A\",\"A\",\"A\",\"A\",\"A\",\"A\",\"A\",\"A\",\"A\",\"A\",\"A\",\"A\",\"A\",\"A\",\"A\",\"A\",\"A\",\"A\",\"A\",\"A\",\"A\",\"A\",\"A\",\"A\",\"A\",\"A\",\"A\",\"A\",\"A\",\"A\",\"A\",\"A\",\"A\",\"A\",\"A\",\"A\",\"A\",\"A\",\"A\",\"A\",\"A\",\"A\",\"A\",\"A\",\"A\",\"A\",\"A\",\"A\",\"A\",\"A\",\"A\",\"A\",\"A\",\"A\",\"A\",\"A\",\"A\",\"A\",\"A\",\"A\",\"A\",\"A\",\"A\",\"A\",\"A\",\"A\",\"A\",\"A\",\"A\",\"A\",\"A\",\"A\",\"A\",\"A\",\"A\",\"A\",\"A\",\"A\",\"A\",\"A\",\"A\",\"A\",\"A\",\"A\",\"A\",\"A\",\"A\",\"A\",\"A\",\"A\",\"A\",\"A\",\"A\",\"A\",\"A\",\"A\",\"A\",\"A\",\"A\",\"A\",\"A\",\"A\",\"A\",\"A\",\"A\",\"A\",\"A\",\"A\",\"A\",\"A\",\"A\",\"A\",\"A\",\"A\",\"A\",\"A\",\"A\",\"A\",\"A\",\"A\",\"A\",\"A\",\"A\",\"A\",\"A\",\"A\",\"A\",\"A\",\"A\",\"A\",\"A\",\"A\",\"A\",\"A\",\"A\",\"A\",\"A\",\"A\",\"A\",\"A\",\"A\",\"A\",\"A\",\"A\",\"A\",\"A\",\"A\",\"A\",\"A\",\"A\",\"A\",\"A\",\"A\",\"A\",\"A\",\"A\",\"A\",\"A\",\"A\",\"A\",\"A\",\"A\",\"A\",\"A\",\"A\",\"A\",\"A\",\"A\",\"A\",\"A\",\"A\",\"A\",\"A\",\"A\",\"A\",\"A\",\"A\",\"A\",\"A\",\"A\",\"A\",\"A\",\"A\",\"A\",\"A\",\"A\",\"A\",\"A\",\"A\",\"A\",\"A\",\"A\",\"A\",\"A\",\"A\",\"A\",\"A\",\"A\",\"A\",\"A\",\"A\",\"A\",\"A\",\"A\",\"A\",\"A\",\"A\",\"A\",\"A\",\"A\",\"A\",\"A\",\"A\",\"A\",\"A\",\"A\",\"A\",\"A\",\"A\",\"A\",\"A\",\"A\",\"A\",\"A\",\"A\",\"A\",\"A\",\"A\",\"A\",\"A\",\"A\",\"A\",\"A\",\"A\",\"A\",\"A\",\"A\",\"A\",\"A\",\"A\",\"A\",\"A\",\"A\",\"A\",\"A\",\"A\",\"A\",\"A\",\"A\",\"A\",\"A\",\"A\",\"A\",\"A\",\"A\",\"A\",\"A\",\"A\",\"A\",\"A\",\"A\",\"A\",\"A\",\"A\",\"A\",\"A\",\"A\",\"A\",\"A\",\"A\",\"A\",\"A\",\"A\",\"A\",\"A\",\"A\",\"A\",\"A\",\"A\",\"A\",\"A\",\"A\",\"A\",\"A\",\"A\",\"A\",\"A\",\"A\",\"A\",\"A\",\"A\",\"A\",\"A\",\"A\",\"A\",\"A\",\"A\",\"A\",\"A\",\"A\",\"A\",\"A\"]]]}}},\"view\":{\"type\":\"object\",\"name\":\"CDSView\",\"id\":\"p1103\",\"attributes\":{\"filter\":{\"type\":\"object\",\"name\":\"AllIndices\",\"id\":\"p1104\"}}},\"glyph\":{\"type\":\"object\",\"name\":\"Line\",\"id\":\"p1099\",\"attributes\":{\"tags\":[\"apply_ranges\"],\"x\":{\"type\":\"field\",\"field\":\"index\"},\"y\":{\"type\":\"field\",\"field\":\"value\"},\"line_color\":\"#30a2da\",\"line_width\":2}},\"selection_glyph\":{\"type\":\"object\",\"name\":\"Line\",\"id\":\"p1107\",\"attributes\":{\"tags\":[\"apply_ranges\"],\"x\":{\"type\":\"field\",\"field\":\"index\"},\"y\":{\"type\":\"field\",\"field\":\"value\"},\"line_color\":\"#30a2da\",\"line_width\":2}},\"nonselection_glyph\":{\"type\":\"object\",\"name\":\"Line\",\"id\":\"p1100\",\"attributes\":{\"tags\":[\"apply_ranges\"],\"x\":{\"type\":\"field\",\"field\":\"index\"},\"y\":{\"type\":\"field\",\"field\":\"value\"},\"line_color\":\"#30a2da\",\"line_alpha\":0.1,\"line_width\":2}},\"muted_glyph\":{\"type\":\"object\",\"name\":\"Line\",\"id\":\"p1101\",\"attributes\":{\"tags\":[\"apply_ranges\"],\"x\":{\"type\":\"field\",\"field\":\"index\"},\"y\":{\"type\":\"field\",\"field\":\"value\"},\"line_color\":\"#30a2da\",\"line_alpha\":0.2,\"line_width\":2}}}},{\"type\":\"object\",\"name\":\"GlyphRenderer\",\"id\":\"p1117\",\"attributes\":{\"name\":\"B\",\"data_source\":{\"type\":\"object\",\"name\":\"ColumnDataSource\",\"id\":\"p1108\",\"attributes\":{\"selected\":{\"type\":\"object\",\"name\":\"Selection\",\"id\":\"p1109\",\"attributes\":{\"indices\":[],\"line_indices\":[]}},\"selection_policy\":{\"type\":\"object\",\"name\":\"UnionRenderers\",\"id\":\"p1110\"},\"data\":{\"type\":\"map\",\"entries\":[[\"index\",{\"type\":\"ndarray\",\"array\":{\"type\":\"bytes\",\"data\":\"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\"},\"shape\":[1000],\"dtype\":\"float64\",\"order\":\"little\"}],[\"value\",{\"type\":\"ndarray\",\"array\":{\"type\":\"bytes\",\"data\":\"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\"},\"shape\":[1000],\"dtype\":\"float64\",\"order\":\"little\"}],[\"Variable\",[\"B\",\"B\",\"B\",\"B\",\"B\",\"B\",\"B\",\"B\",\"B\",\"B\",\"B\",\"B\",\"B\",\"B\",\"B\",\"B\",\"B\",\"B\",\"B\",\"B\",\"B\",\"B\",\"B\",\"B\",\"B\",\"B\",\"B\",\"B\",\"B\",\"B\",\"B\",\"B\",\"B\",\"B\",\"B\",\"B\",\"B\",\"B\",\"B\",\"B\",\"B\",\"B\",\"B\",\"B\",\"B\",\"B\",\"B\",\"B\",\"B\",\"B\",\"B\",\"B\",\"B\",\"B\",\"B\",\"B\",\"B\",\"B\",\"B\",\"B\",\"B\",\"B\",\"B\",\"B\",\"B\",\"B\",\"B\",\"B\",\"B\",\"B\",\"B\",\"B\",\"B\",\"B\",\"B\",\"B\",\"B\",\"B\",\"B\",\"B\",\"B\",\"B\",\"B\",\"B\",\"B\",\"B\",\"B\",\"B\",\"B\",\"B\",\"B\",\"B\",\"B\",\"B\",\"B\",\"B\",\"B\",\"B\",\"B\",\"B\",\"B\",\"B\",\"B\",\"B\",\"B\",\"B\",\"B\",\"B\",\"B\",\"B\",\"B\",\"B\",\"B\",\"B\",\"B\",\"B\",\"B\",\"B\",\"B\",\"B\",\"B\",\"B\",\"B\",\"B\",\"B\",\"B\",\"B\",\"B\",\"B\",\"B\",\"B\",\"B\",\"B\",\"B\",\"B\",\"B\",\"B\",\"B\",\"B\",\"B\",\"B\",\"B\",\"B\",\"B\",\"B\",\"B\",\"B\",\"B\",\"B\",\"B\",\"B\",\"B\",\"B\",\"B\",\"B\",\"B\",\"B\",\"B\",\"B\",\"B\",\"B\",\"B\",\"B\",\"B\",\"B\",\"B\",\"B\",\"B\",\"B\",\"B\",\"B\",\"B\",\"B\",\"B\",\"B\",\"B\",\"B\",\"B\",\"B\",\"B\",\"B\",\"B\",\"B\",\"B\",\"B\",\"B\",\"B\",\"B\",\"B\",\"B\",\"B\",\"B\",\"B\",\"B\",\"B\",\"B\",\"B\",\"B\",\"B\",\"B\",\"B\",\"B\",\"B\",\"B\",\"B\",\"B\",\"B\",\"B\",\"B\",\"B\",\"B\",\"B\",\"B\",\"B\",\"B\",\"B\",\"B\",\"B\",\"B\",\"B\",\"B\",\"B\",\"B\",\"B\",\"B\",\"B\",\"B\",\"B\",\"B\",\"B\",\"B\",\"B\",\"B\",\"B\",\"B\",\"B\",\"B\",\"B\",\"B\",\"B\",\"B\",\"B\",\"B\",\"B\",\"B\",\"B\",\"B\",\"B\",\"B\",\"B\",\"B\",\"B\",\"B\",\"B\",\"B\",\"B\",\"B\",\"B\",\"B\",\"B\",\"B\",\"B\",\"B\",\"B\",\"B\",\"B\",\"B\",\"B\",\"B\",\"B\",\"B\",\"B\",\"B\",\"B\",\"B\",\"B\",\"B\",\"B\",\"B\",\"B\",\"B\",\"B\",\"B\",\"B\",\"B\",\"B\",\"B\",\"B\",\"B\",\"B\",\"B\",\"B\",\"B\",\"B\",\"B\",\"B\",\"B\",\"B\",\"B\",\"B\",\"B\",\"B\",\"B\",\"B\",\"B\",\"B\",\"B\",\"B\",\"B\",\"B\",\"B\",\"B\",\"B\",\"B\",\"B\",\"B\",\"B\",\"B\",\"B\",\"B\",\"B\",\"B\",\"B\",\"B\",\"B\",\"B\",\"B\",\"B\",\"B\",\"B\",\"B\",\"B\",\"B\",\"B\",\"B\",\"B\",\"B\",\"B\",\"B\",\"B\",\"B\",\"B\",\"B\",\"B\",\"B\",\"B\",\"B\",\"B\",\"B\",\"B\",\"B\",\"B\",\"B\",\"B\",\"B\",\"B\",\"B\",\"B\",\"B\",\"B\",\"B\",\"B\",\"B\",\"B\",\"B\",\"B\",\"B\",\"B\",\"B\",\"B\",\"B\",\"B\",\"B\",\"B\",\"B\",\"B\",\"B\",\"B\",\"B\",\"B\",\"B\",\"B\",\"B\",\"B\",\"B\",\"B\",\"B\",\"B\",\"B\",\"B\",\"B\",\"B\",\"B\",\"B\",\"B\",\"B\",\"B\",\"B\",\"B\",\"B\",\"B\",\"B\",\"B\",\"B\",\"B\",\"B\",\"B\",\"B\",\"B\",\"B\",\"B\",\"B\",\"B\",\"B\",\"B\",\"B\",\"B\",\"B\",\"B\",\"B\",\"B\",\"B\",\"B\",\"B\",\"B\",\"B\",\"B\",\"B\",\"B\",\"B\",\"B\",\"B\",\"B\",\"B\",\"B\",\"B\",\"B\",\"B\",\"B\",\"B\",\"B\",\"B\",\"B\",\"B\",\"B\",\"B\",\"B\",\"B\",\"B\",\"B\",\"B\",\"B\",\"B\",\"B\",\"B\",\"B\",\"B\",\"B\",\"B\",\"B\",\"B\",\"B\",\"B\",\"B\",\"B\",\"B\",\"B\",\"B\",\"B\",\"B\",\"B\",\"B\",\"B\",\"B\",\"B\",\"B\",\"B\",\"B\",\"B\",\"B\",\"B\",\"B\",\"B\",\"B\",\"B\",\"B\",\"B\",\"B\",\"B\",\"B\",\"B\",\"B\",\"B\",\"B\",\"B\",\"B\",\"B\",\"B\",\"B\",\"B\",\"B\",\"B\",\"B\",\"B\",\"B\",\"B\",\"B\",\"B\",\"B\",\"B\",\"B\",\"B\",\"B\",\"B\",\"B\",\"B\",\"B\",\"B\",\"B\",\"B\",\"B\",\"B\",\"B\",\"B\",\"B\",\"B\",\"B\",\"B\",\"B\",\"B\",\"B\",\"B\",\"B\",\"B\",\"B\",\"B\",\"B\",\"B\",\"B\",\"B\",\"B\",\"B\",\"B\",\"B\",\"B\",\"B\",\"B\",\"B\",\"B\",\"B\",\"B\",\"B\",\"B\",\"B\",\"B\",\"B\",\"B\",\"B\",\"B\",\"B\",\"B\",\"B\",\"B\",\"B\",\"B\",\"B\",\"B\",\"B\",\"B\",\"B\",\"B\",\"B\",\"B\",\"B\",\"B\",\"B\",\"B\",\"B\",\"B\",\"B\",\"B\",\"B\",\"B\",\"B\",\"B\",\"B\",\"B\",\"B\",\"B\",\"B\",\"B\",\"B\",\"B\",\"B\",\"B\",\"B\",\"B\",\"B\",\"B\",\"B\",\"B\",\"B\",\"B\",\"B\",\"B\",\"B\",\"B\",\"B\",\"B\",\"B\",\"B\",\"B\",\"B\",\"B\",\"B\",\"B\",\"B\",\"B\",\"B\",\"B\",\"B\",\"B\",\"B\",\"B\",\"B\",\"B\",\"B\",\"B\",\"B\",\"B\",\"B\",\"B\",\"B\",\"B\",\"B\",\"B\",\"B\",\"B\",\"B\",\"B\",\"B\",\"B\",\"B\",\"B\",\"B\",\"B\",\"B\",\"B\",\"B\",\"B\",\"B\",\"B\",\"B\",\"B\",\"B\",\"B\",\"B\",\"B\",\"B\",\"B\",\"B\",\"B\",\"B\",\"B\",\"B\",\"B\",\"B\",\"B\",\"B\",\"B\",\"B\",\"B\",\"B\",\"B\",\"B\",\"B\",\"B\",\"B\",\"B\",\"B\",\"B\",\"B\",\"B\",\"B\",\"B\",\"B\",\"B\",\"B\",\"B\",\"B\",\"B\",\"B\",\"B\",\"B\",\"B\",\"B\",\"B\",\"B\",\"B\",\"B\",\"B\",\"B\",\"B\",\"B\",\"B\",\"B\",\"B\",\"B\",\"B\",\"B\",\"B\",\"B\",\"B\",\"B\",\"B\",\"B\",\"B\",\"B\",\"B\",\"B\",\"B\",\"B\",\"B\",\"B\",\"B\",\"B\",\"B\",\"B\",\"B\",\"B\",\"B\",\"B\",\"B\",\"B\",\"B\",\"B\",\"B\",\"B\",\"B\",\"B\",\"B\",\"B\",\"B\",\"B\",\"B\",\"B\",\"B\",\"B\",\"B\",\"B\",\"B\",\"B\",\"B\",\"B\",\"B\",\"B\",\"B\",\"B\",\"B\",\"B\",\"B\",\"B\",\"B\",\"B\",\"B\",\"B\",\"B\",\"B\",\"B\",\"B\",\"B\",\"B\",\"B\",\"B\",\"B\",\"B\",\"B\",\"B\",\"B\",\"B\",\"B\",\"B\",\"B\",\"B\",\"B\",\"B\",\"B\",\"B\",\"B\",\"B\",\"B\",\"B\",\"B\",\"B\",\"B\",\"B\",\"B\",\"B\",\"B\",\"B\",\"B\",\"B\",\"B\",\"B\",\"B\",\"B\",\"B\",\"B\",\"B\",\"B\",\"B\",\"B\",\"B\",\"B\",\"B\",\"B\",\"B\",\"B\",\"B\",\"B\",\"B\",\"B\",\"B\",\"B\",\"B\",\"B\",\"B\",\"B\",\"B\",\"B\",\"B\",\"B\",\"B\",\"B\",\"B\",\"B\",\"B\",\"B\",\"B\",\"B\",\"B\",\"B\",\"B\",\"B\",\"B\",\"B\",\"B\",\"B\",\"B\",\"B\",\"B\",\"B\",\"B\",\"B\",\"B\",\"B\",\"B\",\"B\",\"B\",\"B\",\"B\",\"B\",\"B\",\"B\",\"B\",\"B\",\"B\",\"B\",\"B\",\"B\",\"B\",\"B\",\"B\",\"B\",\"B\",\"B\",\"B\",\"B\",\"B\",\"B\",\"B\",\"B\",\"B\",\"B\",\"B\",\"B\",\"B\",\"B\",\"B\",\"B\",\"B\",\"B\",\"B\",\"B\",\"B\",\"B\",\"B\",\"B\",\"B\",\"B\",\"B\",\"B\",\"B\",\"B\",\"B\",\"B\",\"B\",\"B\",\"B\",\"B\",\"B\",\"B\",\"B\",\"B\",\"B\",\"B\",\"B\",\"B\",\"B\",\"B\",\"B\",\"B\",\"B\",\"B\",\"B\",\"B\",\"B\",\"B\",\"B\",\"B\",\"B\",\"B\",\"B\",\"B\",\"B\",\"B\",\"B\",\"B\",\"B\",\"B\",\"B\",\"B\",\"B\",\"B\",\"B\",\"B\",\"B\",\"B\",\"B\",\"B\",\"B\",\"B\",\"B\",\"B\",\"B\",\"B\",\"B\",\"B\",\"B\",\"B\",\"B\",\"B\",\"B\",\"B\",\"B\",\"B\",\"B\",\"B\",\"B\",\"B\",\"B\",\"B\",\"B\",\"B\",\"B\",\"B\",\"B\",\"B\",\"B\",\"B\",\"B\",\"B\",\"B\",\"B\",\"B\",\"B\",\"B\",\"B\",\"B\",\"B\",\"B\",\"B\",\"B\",\"B\",\"B\",\"B\",\"B\",\"B\",\"B\",\"B\"]]]}}},\"view\":{\"type\":\"object\",\"name\":\"CDSView\",\"id\":\"p1118\",\"attributes\":{\"filter\":{\"type\":\"object\",\"name\":\"AllIndices\",\"id\":\"p1119\"}}},\"glyph\":{\"type\":\"object\",\"name\":\"Line\",\"id\":\"p1114\",\"attributes\":{\"tags\":[\"apply_ranges\"],\"x\":{\"type\":\"field\",\"field\":\"index\"},\"y\":{\"type\":\"field\",\"field\":\"value\"},\"line_color\":\"#fc4f30\",\"line_width\":2}},\"selection_glyph\":{\"type\":\"object\",\"name\":\"Line\",\"id\":\"p1121\",\"attributes\":{\"tags\":[\"apply_ranges\"],\"x\":{\"type\":\"field\",\"field\":\"index\"},\"y\":{\"type\":\"field\",\"field\":\"value\"},\"line_color\":\"#fc4f30\",\"line_width\":2}},\"nonselection_glyph\":{\"type\":\"object\",\"name\":\"Line\",\"id\":\"p1115\",\"attributes\":{\"tags\":[\"apply_ranges\"],\"x\":{\"type\":\"field\",\"field\":\"index\"},\"y\":{\"type\":\"field\",\"field\":\"value\"},\"line_color\":\"#fc4f30\",\"line_alpha\":0.1,\"line_width\":2}},\"muted_glyph\":{\"type\":\"object\",\"name\":\"Line\",\"id\":\"p1116\",\"attributes\":{\"tags\":[\"apply_ranges\"],\"x\":{\"type\":\"field\",\"field\":\"index\"},\"y\":{\"type\":\"field\",\"field\":\"value\"},\"line_color\":\"#fc4f30\",\"line_alpha\":0.2,\"line_width\":2}}}},{\"type\":\"object\",\"name\":\"GlyphRenderer\",\"id\":\"p1131\",\"attributes\":{\"name\":\"C\",\"data_source\":{\"type\":\"object\",\"name\":\"ColumnDataSource\",\"id\":\"p1122\",\"attributes\":{\"selected\":{\"type\":\"object\",\"name\":\"Selection\",\"id\":\"p1123\",\"attributes\":{\"indices\":[],\"line_indices\":[]}},\"selection_policy\":{\"type\":\"object\",\"name\":\"UnionRenderers\",\"id\":\"p1124\"},\"data\":{\"type\":\"map\",\"entries\":[[\"index\",{\"type\":\"ndarray\",\"array\":{\"type\":\"bytes\",\"data\":\"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\"},\"shape\":[1000],\"dtype\":\"float64\",\"order\":\"little\"}],[\"value\",{\"type\":\"ndarray\",\"array\":{\"type\":\"bytes\",\"data\":\"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\"},\"shape\":[1000],\"dtype\":\"float64\",\"order\":\"little\"}],[\"Variable\",[\"C\",\"C\",\"C\",\"C\",\"C\",\"C\",\"C\",\"C\",\"C\",\"C\",\"C\",\"C\",\"C\",\"C\",\"C\",\"C\",\"C\",\"C\",\"C\",\"C\",\"C\",\"C\",\"C\",\"C\",\"C\",\"C\",\"C\",\"C\",\"C\",\"C\",\"C\",\"C\",\"C\",\"C\",\"C\",\"C\",\"C\",\"C\",\"C\",\"C\",\"C\",\"C\",\"C\",\"C\",\"C\",\"C\",\"C\",\"C\",\"C\",\"C\",\"C\",\"C\",\"C\",\"C\",\"C\",\"C\",\"C\",\"C\",\"C\",\"C\",\"C\",\"C\",\"C\",\"C\",\"C\",\"C\",\"C\",\"C\",\"C\",\"C\",\"C\",\"C\",\"C\",\"C\",\"C\",\"C\",\"C\",\"C\",\"C\",\"C\",\"C\",\"C\",\"C\",\"C\",\"C\",\"C\",\"C\",\"C\",\"C\",\"C\",\"C\",\"C\",\"C\",\"C\",\"C\",\"C\",\"C\",\"C\",\"C\",\"C\",\"C\",\"C\",\"C\",\"C\",\"C\",\"C\",\"C\",\"C\",\"C\",\"C\",\"C\",\"C\",\"C\",\"C\",\"C\",\"C\",\"C\",\"C\",\"C\",\"C\",\"C\",\"C\",\"C\",\"C\",\"C\",\"C\",\"C\",\"C\",\"C\",\"C\",\"C\",\"C\",\"C\",\"C\",\"C\",\"C\",\"C\",\"C\",\"C\",\"C\",\"C\",\"C\",\"C\",\"C\",\"C\",\"C\",\"C\",\"C\",\"C\",\"C\",\"C\",\"C\",\"C\",\"C\",\"C\",\"C\",\"C\",\"C\",\"C\",\"C\",\"C\",\"C\",\"C\",\"C\",\"C\",\"C\",\"C\",\"C\",\"C\",\"C\",\"C\",\"C\",\"C\",\"C\",\"C\",\"C\",\"C\",\"C\",\"C\",\"C\",\"C\",\"C\",\"C\",\"C\",\"C\",\"C\",\"C\",\"C\",\"C\",\"C\",\"C\",\"C\",\"C\",\"C\",\"C\",\"C\",\"C\",\"C\",\"C\",\"C\",\"C\",\"C\",\"C\",\"C\",\"C\",\"C\",\"C\",\"C\",\"C\",\"C\",\"C\",\"C\",\"C\",\"C\",\"C\",\"C\",\"C\",\"C\",\"C\",\"C\",\"C\",\"C\",\"C\",\"C\",\"C\",\"C\",\"C\",\"C\",\"C\",\"C\",\"C\",\"C\",\"C\",\"C\",\"C\",\"C\",\"C\",\"C\",\"C\",\"C\",\"C\",\"C\",\"C\",\"C\",\"C\",\"C\",\"C\",\"C\",\"C\",\"C\",\"C\",\"C\",\"C\",\"C\",\"C\",\"C\",\"C\",\"C\",\"C\",\"C\",\"C\",\"C\",\"C\",\"C\",\"C\",\"C\",\"C\",\"C\",\"C\",\"C\",\"C\",\"C\",\"C\",\"C\",\"C\",\"C\",\"C\",\"C\",\"C\",\"C\",\"C\",\"C\",\"C\",\"C\",\"C\",\"C\",\"C\",\"C\",\"C\",\"C\",\"C\",\"C\",\"C\",\"C\",\"C\",\"C\",\"C\",\"C\",\"C\",\"C\",\"C\",\"C\",\"C\",\"C\",\"C\",\"C\",\"C\",\"C\",\"C\",\"C\",\"C\",\"C\",\"C\",\"C\",\"C\",\"C\",\"C\",\"C\",\"C\",\"C\",\"C\",\"C\",\"C\",\"C\",\"C\",\"C\",\"C\",\"C\",\"C\",\"C\",\"C\",\"C\",\"C\",\"C\",\"C\",\"C\",\"C\",\"C\",\"C\",\"C\",\"C\",\"C\",\"C\",\"C\",\"C\",\"C\",\"C\",\"C\",\"C\",\"C\",\"C\",\"C\",\"C\",\"C\",\"C\",\"C\",\"C\",\"C\",\"C\",\"C\",\"C\",\"C\",\"C\",\"C\",\"C\",\"C\",\"C\",\"C\",\"C\",\"C\",\"C\",\"C\",\"C\",\"C\",\"C\",\"C\",\"C\",\"C\",\"C\",\"C\",\"C\",\"C\",\"C\",\"C\",\"C\",\"C\",\"C\",\"C\",\"C\",\"C\",\"C\",\"C\",\"C\",\"C\",\"C\",\"C\",\"C\",\"C\",\"C\",\"C\",\"C\",\"C\",\"C\",\"C\",\"C\",\"C\",\"C\",\"C\",\"C\",\"C\",\"C\",\"C\",\"C\",\"C\",\"C\",\"C\",\"C\",\"C\",\"C\",\"C\",\"C\",\"C\",\"C\",\"C\",\"C\",\"C\",\"C\",\"C\",\"C\",\"C\",\"C\",\"C\",\"C\",\"C\",\"C\",\"C\",\"C\",\"C\",\"C\",\"C\",\"C\",\"C\",\"C\",\"C\",\"C\",\"C\",\"C\",\"C\",\"C\",\"C\",\"C\",\"C\",\"C\",\"C\",\"C\",\"C\",\"C\",\"C\",\"C\",\"C\",\"C\",\"C\",\"C\",\"C\",\"C\",\"C\",\"C\",\"C\",\"C\",\"C\",\"C\",\"C\",\"C\",\"C\",\"C\",\"C\",\"C\",\"C\",\"C\",\"C\",\"C\",\"C\",\"C\",\"C\",\"C\",\"C\",\"C\",\"C\",\"C\",\"C\",\"C\",\"C\",\"C\",\"C\",\"C\",\"C\",\"C\",\"C\",\"C\",\"C\",\"C\",\"C\",\"C\",\"C\",\"C\",\"C\",\"C\",\"C\",\"C\",\"C\",\"C\",\"C\",\"C\",\"C\",\"C\",\"C\",\"C\",\"C\",\"C\",\"C\",\"C\",\"C\",\"C\",\"C\",\"C\",\"C\",\"C\",\"C\",\"C\",\"C\",\"C\",\"C\",\"C\",\"C\",\"C\",\"C\",\"C\",\"C\",\"C\",\"C\",\"C\",\"C\",\"C\",\"C\",\"C\",\"C\",\"C\",\"C\",\"C\",\"C\",\"C\",\"C\",\"C\",\"C\",\"C\",\"C\",\"C\",\"C\",\"C\",\"C\",\"C\",\"C\",\"C\",\"C\",\"C\",\"C\",\"C\",\"C\",\"C\",\"C\",\"C\",\"C\",\"C\",\"C\",\"C\",\"C\",\"C\",\"C\",\"C\",\"C\",\"C\",\"C\",\"C\",\"C\",\"C\",\"C\",\"C\",\"C\",\"C\",\"C\",\"C\",\"C\",\"C\",\"C\",\"C\",\"C\",\"C\",\"C\",\"C\",\"C\",\"C\",\"C\",\"C\",\"C\",\"C\",\"C\",\"C\",\"C\",\"C\",\"C\",\"C\",\"C\",\"C\",\"C\",\"C\",\"C\",\"C\",\"C\",\"C\",\"C\",\"C\",\"C\",\"C\",\"C\",\"C\",\"C\",\"C\",\"C\",\"C\",\"C\",\"C\",\"C\",\"C\",\"C\",\"C\",\"C\",\"C\",\"C\",\"C\",\"C\",\"C\",\"C\",\"C\",\"C\",\"C\",\"C\",\"C\",\"C\",\"C\",\"C\",\"C\",\"C\",\"C\",\"C\",\"C\",\"C\",\"C\",\"C\",\"C\",\"C\",\"C\",\"C\",\"C\",\"C\",\"C\",\"C\",\"C\",\"C\",\"C\",\"C\",\"C\",\"C\",\"C\",\"C\",\"C\",\"C\",\"C\",\"C\",\"C\",\"C\",\"C\",\"C\",\"C\",\"C\",\"C\",\"C\",\"C\",\"C\",\"C\",\"C\",\"C\",\"C\",\"C\",\"C\",\"C\",\"C\",\"C\",\"C\",\"C\",\"C\",\"C\",\"C\",\"C\",\"C\",\"C\",\"C\",\"C\",\"C\",\"C\",\"C\",\"C\",\"C\",\"C\",\"C\",\"C\",\"C\",\"C\",\"C\",\"C\",\"C\",\"C\",\"C\",\"C\",\"C\",\"C\",\"C\",\"C\",\"C\",\"C\",\"C\",\"C\",\"C\",\"C\",\"C\",\"C\",\"C\",\"C\",\"C\",\"C\",\"C\",\"C\",\"C\",\"C\",\"C\",\"C\",\"C\",\"C\",\"C\",\"C\",\"C\",\"C\",\"C\",\"C\",\"C\",\"C\",\"C\",\"C\",\"C\",\"C\",\"C\",\"C\",\"C\",\"C\",\"C\",\"C\",\"C\",\"C\",\"C\",\"C\",\"C\",\"C\",\"C\",\"C\",\"C\",\"C\",\"C\",\"C\",\"C\",\"C\",\"C\",\"C\",\"C\",\"C\",\"C\",\"C\",\"C\",\"C\",\"C\",\"C\",\"C\",\"C\",\"C\",\"C\",\"C\",\"C\",\"C\",\"C\",\"C\",\"C\",\"C\",\"C\",\"C\",\"C\",\"C\",\"C\",\"C\",\"C\",\"C\",\"C\",\"C\",\"C\",\"C\",\"C\",\"C\",\"C\",\"C\",\"C\",\"C\",\"C\",\"C\",\"C\",\"C\",\"C\",\"C\",\"C\",\"C\",\"C\",\"C\",\"C\",\"C\",\"C\",\"C\",\"C\",\"C\",\"C\",\"C\",\"C\",\"C\",\"C\",\"C\",\"C\",\"C\",\"C\",\"C\",\"C\",\"C\",\"C\",\"C\",\"C\",\"C\",\"C\",\"C\",\"C\",\"C\",\"C\",\"C\",\"C\",\"C\",\"C\",\"C\",\"C\",\"C\",\"C\",\"C\",\"C\",\"C\",\"C\",\"C\",\"C\",\"C\",\"C\",\"C\",\"C\",\"C\",\"C\",\"C\",\"C\",\"C\",\"C\",\"C\",\"C\",\"C\",\"C\",\"C\",\"C\",\"C\",\"C\",\"C\",\"C\",\"C\",\"C\",\"C\",\"C\",\"C\",\"C\",\"C\",\"C\",\"C\",\"C\",\"C\",\"C\",\"C\",\"C\",\"C\",\"C\",\"C\",\"C\",\"C\",\"C\",\"C\",\"C\",\"C\",\"C\",\"C\",\"C\",\"C\",\"C\",\"C\",\"C\",\"C\",\"C\",\"C\",\"C\",\"C\",\"C\",\"C\",\"C\",\"C\",\"C\",\"C\",\"C\",\"C\",\"C\",\"C\",\"C\",\"C\",\"C\",\"C\",\"C\",\"C\",\"C\",\"C\",\"C\",\"C\",\"C\",\"C\",\"C\",\"C\",\"C\",\"C\",\"C\",\"C\",\"C\",\"C\",\"C\",\"C\",\"C\",\"C\",\"C\",\"C\",\"C\",\"C\",\"C\",\"C\",\"C\",\"C\",\"C\",\"C\",\"C\",\"C\",\"C\",\"C\",\"C\",\"C\",\"C\",\"C\",\"C\",\"C\",\"C\",\"C\",\"C\",\"C\",\"C\",\"C\",\"C\",\"C\",\"C\",\"C\",\"C\",\"C\",\"C\",\"C\",\"C\",\"C\",\"C\",\"C\",\"C\",\"C\",\"C\",\"C\"]]]}}},\"view\":{\"type\":\"object\",\"name\":\"CDSView\",\"id\":\"p1132\",\"attributes\":{\"filter\":{\"type\":\"object\",\"name\":\"AllIndices\",\"id\":\"p1133\"}}},\"glyph\":{\"type\":\"object\",\"name\":\"Line\",\"id\":\"p1128\",\"attributes\":{\"tags\":[\"apply_ranges\"],\"x\":{\"type\":\"field\",\"field\":\"index\"},\"y\":{\"type\":\"field\",\"field\":\"value\"},\"line_color\":\"#e5ae38\",\"line_width\":2}},\"selection_glyph\":{\"type\":\"object\",\"name\":\"Line\",\"id\":\"p1135\",\"attributes\":{\"tags\":[\"apply_ranges\"],\"x\":{\"type\":\"field\",\"field\":\"index\"},\"y\":{\"type\":\"field\",\"field\":\"value\"},\"line_color\":\"#e5ae38\",\"line_width\":2}},\"nonselection_glyph\":{\"type\":\"object\",\"name\":\"Line\",\"id\":\"p1129\",\"attributes\":{\"tags\":[\"apply_ranges\"],\"x\":{\"type\":\"field\",\"field\":\"index\"},\"y\":{\"type\":\"field\",\"field\":\"value\"},\"line_color\":\"#e5ae38\",\"line_alpha\":0.1,\"line_width\":2}},\"muted_glyph\":{\"type\":\"object\",\"name\":\"Line\",\"id\":\"p1130\",\"attributes\":{\"tags\":[\"apply_ranges\"],\"x\":{\"type\":\"field\",\"field\":\"index\"},\"y\":{\"type\":\"field\",\"field\":\"value\"},\"line_color\":\"#e5ae38\",\"line_alpha\":0.2,\"line_width\":2}}}},{\"type\":\"object\",\"name\":\"GlyphRenderer\",\"id\":\"p1145\",\"attributes\":{\"name\":\"D\",\"data_source\":{\"type\":\"object\",\"name\":\"ColumnDataSource\",\"id\":\"p1136\",\"attributes\":{\"selected\":{\"type\":\"object\",\"name\":\"Selection\",\"id\":\"p1137\",\"attributes\":{\"indices\":[],\"line_indices\":[]}},\"selection_policy\":{\"type\":\"object\",\"name\":\"UnionRenderers\",\"id\":\"p1138\"},\"data\":{\"type\":\"map\",\"entries\":[[\"index\",{\"type\":\"ndarray\",\"array\":{\"type\":\"bytes\",\"data\":\"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\"},\"shape\":[1000],\"dtype\":\"float64\",\"order\":\"little\"}],[\"value\",{\"type\":\"ndarray\",\"array\":{\"type\":\"bytes\",\"data\":\"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\"},\"shape\":[1000],\"dtype\":\"float64\",\"order\":\"little\"}],[\"Variable\",[\"D\",\"D\",\"D\",\"D\",\"D\",\"D\",\"D\",\"D\",\"D\",\"D\",\"D\",\"D\",\"D\",\"D\",\"D\",\"D\",\"D\",\"D\",\"D\",\"D\",\"D\",\"D\",\"D\",\"D\",\"D\",\"D\",\"D\",\"D\",\"D\",\"D\",\"D\",\"D\",\"D\",\"D\",\"D\",\"D\",\"D\",\"D\",\"D\",\"D\",\"D\",\"D\",\"D\",\"D\",\"D\",\"D\",\"D\",\"D\",\"D\",\"D\",\"D\",\"D\",\"D\",\"D\",\"D\",\"D\",\"D\",\"D\",\"D\",\"D\",\"D\",\"D\",\"D\",\"D\",\"D\",\"D\",\"D\",\"D\",\"D\",\"D\",\"D\",\"D\",\"D\",\"D\",\"D\",\"D\",\"D\",\"D\",\"D\",\"D\",\"D\",\"D\",\"D\",\"D\",\"D\",\"D\",\"D\",\"D\",\"D\",\"D\",\"D\",\"D\",\"D\",\"D\",\"D\",\"D\",\"D\",\"D\",\"D\",\"D\",\"D\",\"D\",\"D\",\"D\",\"D\",\"D\",\"D\",\"D\",\"D\",\"D\",\"D\",\"D\",\"D\",\"D\",\"D\",\"D\",\"D\",\"D\",\"D\",\"D\",\"D\",\"D\",\"D\",\"D\",\"D\",\"D\",\"D\",\"D\",\"D\",\"D\",\"D\",\"D\",\"D\",\"D\",\"D\",\"D\",\"D\",\"D\",\"D\",\"D\",\"D\",\"D\",\"D\",\"D\",\"D\",\"D\",\"D\",\"D\",\"D\",\"D\",\"D\",\"D\",\"D\",\"D\",\"D\",\"D\",\"D\",\"D\",\"D\",\"D\",\"D\",\"D\",\"D\",\"D\",\"D\",\"D\",\"D\",\"D\",\"D\",\"D\",\"D\",\"D\",\"D\",\"D\",\"D\",\"D\",\"D\",\"D\",\"D\",\"D\",\"D\",\"D\",\"D\",\"D\",\"D\",\"D\",\"D\",\"D\",\"D\",\"D\",\"D\",\"D\",\"D\",\"D\",\"D\",\"D\",\"D\",\"D\",\"D\",\"D\",\"D\",\"D\",\"D\",\"D\",\"D\",\"D\",\"D\",\"D\",\"D\",\"D\",\"D\",\"D\",\"D\",\"D\",\"D\",\"D\",\"D\",\"D\",\"D\",\"D\",\"D\",\"D\",\"D\",\"D\",\"D\",\"D\",\"D\",\"D\",\"D\",\"D\",\"D\",\"D\",\"D\",\"D\",\"D\",\"D\",\"D\",\"D\",\"D\",\"D\",\"D\",\"D\",\"D\",\"D\",\"D\",\"D\",\"D\",\"D\",\"D\",\"D\",\"D\",\"D\",\"D\",\"D\",\"D\",\"D\",\"D\",\"D\",\"D\",\"D\",\"D\",\"D\",\"D\",\"D\",\"D\",\"D\",\"D\",\"D\",\"D\",\"D\",\"D\",\"D\",\"D\",\"D\",\"D\",\"D\",\"D\",\"D\",\"D\",\"D\",\"D\",\"D\",\"D\",\"D\",\"D\",\"D\",\"D\",\"D\",\"D\",\"D\",\"D\",\"D\",\"D\",\"D\",\"D\",\"D\",\"D\",\"D\",\"D\",\"D\",\"D\",\"D\",\"D\",\"D\",\"D\",\"D\",\"D\",\"D\",\"D\",\"D\",\"D\",\"D\",\"D\",\"D\",\"D\",\"D\",\"D\",\"D\",\"D\",\"D\",\"D\",\"D\",\"D\",\"D\",\"D\",\"D\",\"D\",\"D\",\"D\",\"D\",\"D\",\"D\",\"D\",\"D\",\"D\",\"D\",\"D\",\"D\",\"D\",\"D\",\"D\",\"D\",\"D\",\"D\",\"D\",\"D\",\"D\",\"D\",\"D\",\"D\",\"D\",\"D\",\"D\",\"D\",\"D\",\"D\",\"D\",\"D\",\"D\",\"D\",\"D\",\"D\",\"D\",\"D\",\"D\",\"D\",\"D\",\"D\",\"D\",\"D\",\"D\",\"D\",\"D\",\"D\",\"D\",\"D\",\"D\",\"D\",\"D\",\"D\",\"D\",\"D\",\"D\",\"D\",\"D\",\"D\",\"D\",\"D\",\"D\",\"D\",\"D\",\"D\",\"D\",\"D\",\"D\",\"D\",\"D\",\"D\",\"D\",\"D\",\"D\",\"D\",\"D\",\"D\",\"D\",\"D\",\"D\",\"D\",\"D\",\"D\",\"D\",\"D\",\"D\",\"D\",\"D\",\"D\",\"D\",\"D\",\"D\",\"D\",\"D\",\"D\",\"D\",\"D\",\"D\",\"D\",\"D\",\"D\",\"D\",\"D\",\"D\",\"D\",\"D\",\"D\",\"D\",\"D\",\"D\",\"D\",\"D\",\"D\",\"D\",\"D\",\"D\",\"D\",\"D\",\"D\",\"D\",\"D\",\"D\",\"D\",\"D\",\"D\",\"D\",\"D\",\"D\",\"D\",\"D\",\"D\",\"D\",\"D\",\"D\",\"D\",\"D\",\"D\",\"D\",\"D\",\"D\",\"D\",\"D\",\"D\",\"D\",\"D\",\"D\",\"D\",\"D\",\"D\",\"D\",\"D\",\"D\",\"D\",\"D\",\"D\",\"D\",\"D\",\"D\",\"D\",\"D\",\"D\",\"D\",\"D\",\"D\",\"D\",\"D\",\"D\",\"D\",\"D\",\"D\",\"D\",\"D\",\"D\",\"D\",\"D\",\"D\",\"D\",\"D\",\"D\",\"D\",\"D\",\"D\",\"D\",\"D\",\"D\",\"D\",\"D\",\"D\",\"D\",\"D\",\"D\",\"D\",\"D\",\"D\",\"D\",\"D\",\"D\",\"D\",\"D\",\"D\",\"D\",\"D\",\"D\",\"D\",\"D\",\"D\",\"D\",\"D\",\"D\",\"D\",\"D\",\"D\",\"D\",\"D\",\"D\",\"D\",\"D\",\"D\",\"D\",\"D\",\"D\",\"D\",\"D\",\"D\",\"D\",\"D\",\"D\",\"D\",\"D\",\"D\",\"D\",\"D\",\"D\",\"D\",\"D\",\"D\",\"D\",\"D\",\"D\",\"D\",\"D\",\"D\",\"D\",\"D\",\"D\",\"D\",\"D\",\"D\",\"D\",\"D\",\"D\",\"D\",\"D\",\"D\",\"D\",\"D\",\"D\",\"D\",\"D\",\"D\",\"D\",\"D\",\"D\",\"D\",\"D\",\"D\",\"D\",\"D\",\"D\",\"D\",\"D\",\"D\",\"D\",\"D\",\"D\",\"D\",\"D\",\"D\",\"D\",\"D\",\"D\",\"D\",\"D\",\"D\",\"D\",\"D\",\"D\",\"D\",\"D\",\"D\",\"D\",\"D\",\"D\",\"D\",\"D\",\"D\",\"D\",\"D\",\"D\",\"D\",\"D\",\"D\",\"D\",\"D\",\"D\",\"D\",\"D\",\"D\",\"D\",\"D\",\"D\",\"D\",\"D\",\"D\",\"D\",\"D\",\"D\",\"D\",\"D\",\"D\",\"D\",\"D\",\"D\",\"D\",\"D\",\"D\",\"D\",\"D\",\"D\",\"D\",\"D\",\"D\",\"D\",\"D\",\"D\",\"D\",\"D\",\"D\",\"D\",\"D\",\"D\",\"D\",\"D\",\"D\",\"D\",\"D\",\"D\",\"D\",\"D\",\"D\",\"D\",\"D\",\"D\",\"D\",\"D\",\"D\",\"D\",\"D\",\"D\",\"D\",\"D\",\"D\",\"D\",\"D\",\"D\",\"D\",\"D\",\"D\",\"D\",\"D\",\"D\",\"D\",\"D\",\"D\",\"D\",\"D\",\"D\",\"D\",\"D\",\"D\",\"D\",\"D\",\"D\",\"D\",\"D\",\"D\",\"D\",\"D\",\"D\",\"D\",\"D\",\"D\",\"D\",\"D\",\"D\",\"D\",\"D\",\"D\",\"D\",\"D\",\"D\",\"D\",\"D\",\"D\",\"D\",\"D\",\"D\",\"D\",\"D\",\"D\",\"D\",\"D\",\"D\",\"D\",\"D\",\"D\",\"D\",\"D\",\"D\",\"D\",\"D\",\"D\",\"D\",\"D\",\"D\",\"D\",\"D\",\"D\",\"D\",\"D\",\"D\",\"D\",\"D\",\"D\",\"D\",\"D\",\"D\",\"D\",\"D\",\"D\",\"D\",\"D\",\"D\",\"D\",\"D\",\"D\",\"D\",\"D\",\"D\",\"D\",\"D\",\"D\",\"D\",\"D\",\"D\",\"D\",\"D\",\"D\",\"D\",\"D\",\"D\",\"D\",\"D\",\"D\",\"D\",\"D\",\"D\",\"D\",\"D\",\"D\",\"D\",\"D\",\"D\",\"D\",\"D\",\"D\",\"D\",\"D\",\"D\",\"D\",\"D\",\"D\",\"D\",\"D\",\"D\",\"D\",\"D\",\"D\",\"D\",\"D\",\"D\",\"D\",\"D\",\"D\",\"D\",\"D\",\"D\",\"D\",\"D\",\"D\",\"D\",\"D\",\"D\",\"D\",\"D\",\"D\",\"D\",\"D\",\"D\",\"D\",\"D\",\"D\",\"D\",\"D\",\"D\",\"D\",\"D\",\"D\",\"D\",\"D\",\"D\",\"D\",\"D\",\"D\",\"D\",\"D\",\"D\",\"D\",\"D\",\"D\",\"D\",\"D\",\"D\",\"D\",\"D\",\"D\",\"D\",\"D\",\"D\",\"D\",\"D\",\"D\",\"D\",\"D\",\"D\",\"D\",\"D\",\"D\",\"D\",\"D\",\"D\",\"D\",\"D\",\"D\",\"D\",\"D\",\"D\",\"D\",\"D\",\"D\",\"D\",\"D\",\"D\",\"D\",\"D\",\"D\",\"D\",\"D\",\"D\",\"D\",\"D\",\"D\",\"D\",\"D\",\"D\",\"D\",\"D\",\"D\",\"D\",\"D\",\"D\",\"D\",\"D\",\"D\",\"D\",\"D\",\"D\",\"D\",\"D\",\"D\",\"D\",\"D\",\"D\",\"D\",\"D\",\"D\",\"D\",\"D\",\"D\",\"D\",\"D\",\"D\",\"D\",\"D\",\"D\",\"D\",\"D\",\"D\",\"D\",\"D\",\"D\",\"D\",\"D\",\"D\",\"D\",\"D\",\"D\",\"D\",\"D\",\"D\",\"D\",\"D\",\"D\",\"D\",\"D\",\"D\",\"D\",\"D\",\"D\",\"D\",\"D\",\"D\",\"D\",\"D\",\"D\",\"D\",\"D\",\"D\",\"D\",\"D\",\"D\",\"D\",\"D\",\"D\",\"D\",\"D\",\"D\",\"D\",\"D\",\"D\",\"D\",\"D\",\"D\",\"D\",\"D\",\"D\",\"D\",\"D\",\"D\",\"D\",\"D\",\"D\",\"D\",\"D\",\"D\",\"D\",\"D\",\"D\",\"D\",\"D\",\"D\",\"D\",\"D\"]]]}}},\"view\":{\"type\":\"object\",\"name\":\"CDSView\",\"id\":\"p1146\",\"attributes\":{\"filter\":{\"type\":\"object\",\"name\":\"AllIndices\",\"id\":\"p1147\"}}},\"glyph\":{\"type\":\"object\",\"name\":\"Line\",\"id\":\"p1142\",\"attributes\":{\"tags\":[\"apply_ranges\"],\"x\":{\"type\":\"field\",\"field\":\"index\"},\"y\":{\"type\":\"field\",\"field\":\"value\"},\"line_color\":\"#6d904f\",\"line_width\":2}},\"selection_glyph\":{\"type\":\"object\",\"name\":\"Line\",\"id\":\"p1149\",\"attributes\":{\"tags\":[\"apply_ranges\"],\"x\":{\"type\":\"field\",\"field\":\"index\"},\"y\":{\"type\":\"field\",\"field\":\"value\"},\"line_color\":\"#6d904f\",\"line_width\":2}},\"nonselection_glyph\":{\"type\":\"object\",\"name\":\"Line\",\"id\":\"p1143\",\"attributes\":{\"tags\":[\"apply_ranges\"],\"x\":{\"type\":\"field\",\"field\":\"index\"},\"y\":{\"type\":\"field\",\"field\":\"value\"},\"line_color\":\"#6d904f\",\"line_alpha\":0.1,\"line_width\":2}},\"muted_glyph\":{\"type\":\"object\",\"name\":\"Line\",\"id\":\"p1144\",\"attributes\":{\"tags\":[\"apply_ranges\"],\"x\":{\"type\":\"field\",\"field\":\"index\"},\"y\":{\"type\":\"field\",\"field\":\"value\"},\"line_color\":\"#6d904f\",\"line_alpha\":0.2,\"line_width\":2}}}}],\"toolbar\":{\"type\":\"object\",\"name\":\"Toolbar\",\"id\":\"p1059\",\"attributes\":{\"tools\":[{\"type\":\"object\",\"name\":\"WheelZoomTool\",\"id\":\"p1039\",\"attributes\":{\"tags\":[\"hv_created\"],\"renderers\":\"auto\",\"zoom_together\":\"none\"}},{\"type\":\"object\",\"name\":\"HoverTool\",\"id\":\"p1040\",\"attributes\":{\"tags\":[\"hv_created\"],\"renderers\":[{\"id\":\"p1102\"},{\"id\":\"p1117\"},{\"id\":\"p1131\"},{\"id\":\"p1145\"}],\"tooltips\":[[\"Variable\",\"@{Variable}\"],[\"index\",\"@{index}{%F %T}\"],[\"value\",\"@{value}\"]],\"formatters\":{\"type\":\"map\",\"entries\":[[\"@{index}\",\"datetime\"]]}}},{\"type\":\"object\",\"name\":\"SaveTool\",\"id\":\"p1084\"},{\"type\":\"object\",\"name\":\"PanTool\",\"id\":\"p1085\"},{\"type\":\"object\",\"name\":\"BoxZoomTool\",\"id\":\"p1086\",\"attributes\":{\"overlay\":{\"type\":\"object\",\"name\":\"BoxAnnotation\",\"id\":\"p1087\",\"attributes\":{\"syncable\":false,\"level\":\"overlay\",\"visible\":false,\"left\":{\"type\":\"number\",\"value\":\"nan\"},\"right\":{\"type\":\"number\",\"value\":\"nan\"},\"top\":{\"type\":\"number\",\"value\":\"nan\"},\"bottom\":{\"type\":\"number\",\"value\":\"nan\"},\"left_units\":\"canvas\",\"right_units\":\"canvas\",\"top_units\":\"canvas\",\"bottom_units\":\"canvas\",\"line_color\":\"black\",\"line_alpha\":1.0,\"line_width\":2,\"line_dash\":[4,4],\"fill_color\":\"lightgrey\",\"fill_alpha\":0.5}}}},{\"type\":\"object\",\"name\":\"ResetTool\",\"id\":\"p1092\"}],\"active_drag\":{\"id\":\"p1085\"},\"active_scroll\":{\"id\":\"p1039\"}}},\"left\":[{\"type\":\"object\",\"name\":\"LinearAxis\",\"id\":\"p1079\",\"attributes\":{\"ticker\":{\"type\":\"object\",\"name\":\"BasicTicker\",\"id\":\"p1080\",\"attributes\":{\"mantissas\":[1,2,5]}},\"formatter\":{\"type\":\"object\",\"name\":\"BasicTickFormatter\",\"id\":\"p1081\"},\"axis_label\":\"\",\"axis_label_standoff\":10,\"axis_label_text_font\":\"Roboto, sans-serif, Verdana\",\"axis_label_text_font_size\":\"1.25em\",\"axis_label_text_font_style\":\"normal\",\"major_label_policy\":{\"type\":\"object\",\"name\":\"AllLabels\",\"id\":\"p1082\"},\"major_label_text_font\":\"Roboto, sans-serif, Verdana\",\"major_label_text_font_size\":\"1.025em\"}}],\"right\":[{\"type\":\"object\",\"name\":\"Legend\",\"id\":\"p1105\",\"attributes\":{\"location\":[0,0],\"title\":\"Variable\",\"click_policy\":\"mute\",\"label_text_font\":\"Roboto, sans-serif, Verdana\",\"label_text_font_size\":\"1.025em\",\"label_standoff\":8,\"glyph_width\":15,\"spacing\":8,\"items\":[{\"type\":\"object\",\"name\":\"LegendItem\",\"id\":\"p1106\",\"attributes\":{\"label\":{\"type\":\"value\",\"value\":\"A\"},\"renderers\":[{\"id\":\"p1102\"}]}},{\"type\":\"object\",\"name\":\"LegendItem\",\"id\":\"p1120\",\"attributes\":{\"label\":{\"type\":\"value\",\"value\":\"B\"},\"renderers\":[{\"id\":\"p1117\"}]}},{\"type\":\"object\",\"name\":\"LegendItem\",\"id\":\"p1134\",\"attributes\":{\"label\":{\"type\":\"value\",\"value\":\"C\"},\"renderers\":[{\"id\":\"p1131\"}]}},{\"type\":\"object\",\"name\":\"LegendItem\",\"id\":\"p1148\",\"attributes\":{\"label\":{\"type\":\"value\",\"value\":\"D\"},\"renderers\":[{\"id\":\"p1145\"}]}}]}}],\"below\":[{\"type\":\"object\",\"name\":\"DatetimeAxis\",\"id\":\"p1062\",\"attributes\":{\"ticker\":{\"type\":\"object\",\"name\":\"DatetimeTicker\",\"id\":\"p1063\",\"attributes\":{\"num_minor_ticks\":5,\"tickers\":[{\"type\":\"object\",\"name\":\"AdaptiveTicker\",\"id\":\"p1064\",\"attributes\":{\"num_minor_ticks\":0,\"mantissas\":[1,2,5],\"max_interval\":500.0}},{\"type\":\"object\",\"name\":\"AdaptiveTicker\",\"id\":\"p1065\",\"attributes\":{\"num_minor_ticks\":0,\"base\":60,\"mantissas\":[1,2,5,10,15,20,30],\"min_interval\":1000.0,\"max_interval\":1800000.0}},{\"type\":\"object\",\"name\":\"AdaptiveTicker\",\"id\":\"p1066\",\"attributes\":{\"num_minor_ticks\":0,\"base\":24,\"mantissas\":[1,2,4,6,8,12],\"min_interval\":3600000.0,\"max_interval\":43200000.0}},{\"type\":\"object\",\"name\":\"DaysTicker\",\"id\":\"p1067\",\"attributes\":{\"days\":[1,2,3,4,5,6,7,8,9,10,11,12,13,14,15,16,17,18,19,20,21,22,23,24,25,26,27,28,29,30,31]}},{\"type\":\"object\",\"name\":\"DaysTicker\",\"id\":\"p1068\",\"attributes\":{\"days\":[1,4,7,10,13,16,19,22,25,28]}},{\"type\":\"object\",\"name\":\"DaysTicker\",\"id\":\"p1069\",\"attributes\":{\"days\":[1,8,15,22]}},{\"type\":\"object\",\"name\":\"DaysTicker\",\"id\":\"p1070\",\"attributes\":{\"days\":[1,15]}},{\"type\":\"object\",\"name\":\"MonthsTicker\",\"id\":\"p1071\",\"attributes\":{\"months\":[0,1,2,3,4,5,6,7,8,9,10,11]}},{\"type\":\"object\",\"name\":\"MonthsTicker\",\"id\":\"p1072\",\"attributes\":{\"months\":[0,2,4,6,8,10]}},{\"type\":\"object\",\"name\":\"MonthsTicker\",\"id\":\"p1073\",\"attributes\":{\"months\":[0,4,8]}},{\"type\":\"object\",\"name\":\"MonthsTicker\",\"id\":\"p1074\",\"attributes\":{\"months\":[0,6]}},{\"type\":\"object\",\"name\":\"YearsTicker\",\"id\":\"p1075\"}]}},\"formatter\":{\"type\":\"object\",\"name\":\"DatetimeTickFormatter\",\"id\":\"p1076\"},\"axis_label\":\"\",\"axis_label_standoff\":10,\"axis_label_text_font\":\"Roboto, sans-serif, Verdana\",\"axis_label_text_font_size\":\"1.25em\",\"axis_label_text_font_style\":\"normal\",\"major_label_policy\":{\"type\":\"object\",\"name\":\"AllLabels\",\"id\":\"p1077\"},\"major_label_text_font\":\"Roboto, sans-serif, Verdana\",\"major_label_text_font_size\":\"1.025em\"}}],\"center\":[{\"type\":\"object\",\"name\":\"Grid\",\"id\":\"p1078\",\"attributes\":{\"axis\":{\"id\":\"p1062\"},\"grid_line_color\":null}},{\"type\":\"object\",\"name\":\"Grid\",\"id\":\"p1083\",\"attributes\":{\"dimension\":1,\"axis\":{\"id\":\"p1079\"},\"grid_line_color\":null}}],\"min_border_top\":10,\"min_border_bottom\":10,\"min_border_left\":10,\"min_border_right\":10,\"output_backend\":\"webgl\"}}]}}]}},{\"type\":\"object\",\"name\":\"panel.models.comm_manager.CommManager\",\"id\":\"p1185\",\"attributes\":{\"name\":\"comm_manager\",\"plot_id\":\"p1015\",\"comm_id\":\"2ef77b385b5d40e3818c6ab8821673f8\",\"client_comm_id\":\"286d68076a064f2589ad53898694bd65\"}}],\"defs\":[{\"type\":\"model\",\"name\":\"ReactiveHTML1\"},{\"type\":\"model\",\"name\":\"FlexBox1\",\"properties\":[{\"name\":\"align_content\",\"kind\":\"Any\",\"default\":\"flex-start\"},{\"name\":\"align_items\",\"kind\":\"Any\",\"default\":\"flex-start\"},{\"name\":\"flex_direction\",\"kind\":\"Any\",\"default\":\"row\"},{\"name\":\"flex_wrap\",\"kind\":\"Any\",\"default\":\"wrap\"},{\"name\":\"gap\",\"kind\":\"Any\",\"default\":\"\"},{\"name\":\"justify_content\",\"kind\":\"Any\",\"default\":\"flex-start\"}]},{\"type\":\"model\",\"name\":\"FloatPanel1\",\"properties\":[{\"name\":\"config\",\"kind\":\"Any\",\"default\":{\"type\":\"map\"}},{\"name\":\"contained\",\"kind\":\"Any\",\"default\":true},{\"name\":\"position\",\"kind\":\"Any\",\"default\":\"right-top\"},{\"name\":\"offsetx\",\"kind\":\"Any\",\"default\":null},{\"name\":\"offsety\",\"kind\":\"Any\",\"default\":null},{\"name\":\"theme\",\"kind\":\"Any\",\"default\":\"primary\"},{\"name\":\"status\",\"kind\":\"Any\",\"default\":\"normalized\"}]},{\"type\":\"model\",\"name\":\"GridStack1\",\"properties\":[{\"name\":\"mode\",\"kind\":\"Any\",\"default\":\"warn\"},{\"name\":\"ncols\",\"kind\":\"Any\",\"default\":null},{\"name\":\"nrows\",\"kind\":\"Any\",\"default\":null},{\"name\":\"allow_resize\",\"kind\":\"Any\",\"default\":true},{\"name\":\"allow_drag\",\"kind\":\"Any\",\"default\":true},{\"name\":\"state\",\"kind\":\"Any\",\"default\":[]}]},{\"type\":\"model\",\"name\":\"drag1\",\"properties\":[{\"name\":\"slider_width\",\"kind\":\"Any\",\"default\":5},{\"name\":\"slider_color\",\"kind\":\"Any\",\"default\":\"black\"},{\"name\":\"value\",\"kind\":\"Any\",\"default\":50}]},{\"type\":\"model\",\"name\":\"click1\",\"properties\":[{\"name\":\"terminal_output\",\"kind\":\"Any\",\"default\":\"\"},{\"name\":\"debug_name\",\"kind\":\"Any\",\"default\":\"\"},{\"name\":\"clears\",\"kind\":\"Any\",\"default\":0}]},{\"type\":\"model\",\"name\":\"FastWrapper1\",\"properties\":[{\"name\":\"object\",\"kind\":\"Any\",\"default\":null},{\"name\":\"style\",\"kind\":\"Any\",\"default\":null}]},{\"type\":\"model\",\"name\":\"NotificationAreaBase1\",\"properties\":[{\"name\":\"js_events\",\"kind\":\"Any\",\"default\":{\"type\":\"map\"}},{\"name\":\"position\",\"kind\":\"Any\",\"default\":\"bottom-right\"},{\"name\":\"_clear\",\"kind\":\"Any\",\"default\":0}]},{\"type\":\"model\",\"name\":\"NotificationArea1\",\"properties\":[{\"name\":\"js_events\",\"kind\":\"Any\",\"default\":{\"type\":\"map\"}},{\"name\":\"notifications\",\"kind\":\"Any\",\"default\":[]},{\"name\":\"position\",\"kind\":\"Any\",\"default\":\"bottom-right\"},{\"name\":\"_clear\",\"kind\":\"Any\",\"default\":0},{\"name\":\"types\",\"kind\":\"Any\",\"default\":[{\"type\":\"map\",\"entries\":[[\"type\",\"warning\"],[\"background\",\"#ffc107\"],[\"icon\",{\"type\":\"map\",\"entries\":[[\"className\",\"fas fa-exclamation-triangle\"],[\"tagName\",\"i\"],[\"color\",\"white\"]]}]]},{\"type\":\"map\",\"entries\":[[\"type\",\"info\"],[\"background\",\"#007bff\"],[\"icon\",{\"type\":\"map\",\"entries\":[[\"className\",\"fas fa-info-circle\"],[\"tagName\",\"i\"],[\"color\",\"white\"]]}]]}]}]},{\"type\":\"model\",\"name\":\"Notification\",\"properties\":[{\"name\":\"background\",\"kind\":\"Any\",\"default\":null},{\"name\":\"duration\",\"kind\":\"Any\",\"default\":3000},{\"name\":\"icon\",\"kind\":\"Any\",\"default\":null},{\"name\":\"message\",\"kind\":\"Any\",\"default\":\"\"},{\"name\":\"notification_type\",\"kind\":\"Any\",\"default\":null},{\"name\":\"_destroyed\",\"kind\":\"Any\",\"default\":false}]},{\"type\":\"model\",\"name\":\"TemplateActions1\",\"properties\":[{\"name\":\"open_modal\",\"kind\":\"Any\",\"default\":0},{\"name\":\"close_modal\",\"kind\":\"Any\",\"default\":0}]},{\"type\":\"model\",\"name\":\"BootstrapTemplateActions1\",\"properties\":[{\"name\":\"open_modal\",\"kind\":\"Any\",\"default\":0},{\"name\":\"close_modal\",\"kind\":\"Any\",\"default\":0}]},{\"type\":\"model\",\"name\":\"TemplateEditor1\",\"properties\":[{\"name\":\"layout\",\"kind\":\"Any\",\"default\":[]}]},{\"type\":\"model\",\"name\":\"MaterialTemplateActions1\",\"properties\":[{\"name\":\"open_modal\",\"kind\":\"Any\",\"default\":0},{\"name\":\"close_modal\",\"kind\":\"Any\",\"default\":0}]},{\"type\":\"model\",\"name\":\"copy_to_clipboard1\",\"properties\":[{\"name\":\"fill\",\"kind\":\"Any\",\"default\":\"none\"},{\"name\":\"value\",\"kind\":\"Any\",\"default\":null}]}]}}\n",
       "    </script>\n",
       "    <script type=\"text/javascript\">\n",
       "      (function() {\n",
       "        const fn = function() {\n",
       "          Bokeh.safely(function() {\n",
       "            (function(root) {\n",
       "              function embed_document(root) {\n",
       "              const docs_json = document.getElementById('p1194').textContent;\n",
       "              const render_items = [{\"docid\":\"8d1dadf6-bab0-4ba8-a023-d5047636d8af\",\"roots\":{\"p1015\":\"fb4ba334-d35f-4bd0-beae-c40b3fd17e4b\",\"p1022\":\"f01cd0a2-4128-4b7d-b859-5d7e337c44bc\",\"p1025\":\"a55fada2-138f-4774-b95b-a9eb59ce104d\",\"p1026\":\"cc0e7c16-6660-4b83-b09c-274a5063f72f\",\"p1029\":\"cc96a832-7eee-41c8-978e-2a7bbbc8fc80\",\"p1030\":\"c08a5171-93c7-4d4b-a70a-fd5bc8b58a53\"},\"root_ids\":[\"p1015\",\"p1022\",\"p1025\",\"p1026\",\"p1029\",\"p1030\"]}];\n",
       "              root.Bokeh.embed.embed_items(docs_json, render_items);\n",
       "              }\n",
       "              if (root.Bokeh !== undefined) {\n",
       "                embed_document(root);\n",
       "              } else {\n",
       "                let attempts = 0;\n",
       "                const timer = setInterval(function(root) {\n",
       "                  if (root.Bokeh !== undefined) {\n",
       "                    clearInterval(timer);\n",
       "                    embed_document(root);\n",
       "                  } else {\n",
       "                    attempts++;\n",
       "                    if (attempts > 100) {\n",
       "                      clearInterval(timer);\n",
       "                      console.log(\"Bokeh: ERROR: Unable to run BokehJS code because BokehJS library is missing\");\n",
       "                    }\n",
       "                  }\n",
       "                }, 10, root)\n",
       "              }\n",
       "            })(window);\n",
       "          });\n",
       "        };\n",
       "        if (document.readyState != \"loading\") fn();\n",
       "        else document.addEventListener(\"DOMContentLoaded\", fn);\n",
       "      })();\n",
       "    </script>\n",
       "  </body>\n",
       "</html>"
      ],
      "text/plain": [
       "MaterialTemplate\n",
       "    [js_area] HTML(None, height=0, margin=0, sizing_mode='fixed', width=0)\n",
       "    [actions] MaterialTemplateActions()\n",
       "    [browser_info] BrowserInfo(dark_mode=True, device_pixel_ratio=2, language='en-US', timezone='America/Denver', timezone_offset=360, webdriver=False)\n",
       "    [busy_indicator] LoadingSpinner(height=20, width=20)\n",
       "    [main-139833745848912] Row(sizing_mode='stretch_both')\n",
       "        [0] DatetimeInput(name='Datetime Input', type=<class 'datetime.datetime'..., value=datetime.datetime(2019, ...)\n",
       "        [1] ParamFunction(function, _pane=HoloViews, defer_load=False)"
      ]
     },
     "execution_count": 23,
     "metadata": {
      "application/vnd.holoviews_exec.v0+json": {
       "id": "p1015"
      }
     },
     "output_type": "execute_result"
    }
   ],
   "source": [
    "template#.servable()"
   ]
  },
  {
   "cell_type": "code",
   "execution_count": null,
   "metadata": {},
   "outputs": [],
   "source": [
    "import boto3\n",
    "import botocore\n",
    "import numpy as np\n",
    "import pandas as pd\n",
    "from datetime import datetime\n",
    "from satpy import Scene\n",
    "import panel as pn\n",
    "import hvplot.pandas\n",
    "\n",
    "# Initialize S3 client with unsigned requests\n",
    "client = boto3.client('s3', config=botocore.client.Config(signature_version=botocore.UNSIGNED))\n",
    "\n",
    "# Function to get the latest file based on user input date and time\n",
    "def get_latest_file(year, day_of_year, hour, time_min):\n",
    "    while True:\n",
    "        if hour < 0:\n",
    "            day_of_year -= 1\n",
    "            hour = 23\n",
    "            # Handle the case for the first day of the year\n",
    "            if day_of_year < 1:\n",
    "                year -= 1\n",
    "                day_of_year = 365 if (year % 4 == 0 and (year % 100 != 0 or year % 400 == 0)) else 364\n",
    "        \n",
    "        prefix = f'ABI-L1b-RadC/{year}/{day_of_year:03d}/{hour:02d}/'\n",
    "        # print(\"Prefix\", prefix)\n",
    "        \n",
    "        # List objects in the specified path\n",
    "        result = client.list_objects_v2(Bucket='noaa-goes16', Prefix=prefix)\n",
    "        # print(\"Result\", result)\n",
    "        if 'Contents' not in result:\n",
    "            hour -= 1\n",
    "            continue\n",
    "        \n",
    "        # Extract the minutes from the object keys\n",
    "        minute_of_observation = np.array([int(obj[\"Key\"].split(\"_\")[3][-5:-3]) for obj in result['Contents']])\n",
    "        \n",
    "        # Find the intersection of minutes within the desired range\n",
    "        intersecting_minutes = np.intersect1d(minute_of_observation, [num for num in range(time_min-4, time_min+1)])\n",
    "        \n",
    "        if len(intersecting_minutes) == 0:\n",
    "            hour -= 1\n",
    "            time_min = 60  # Reset minute to 60 to start searching the previous hour from the last minute\n",
    "            continue\n",
    "        \n",
    "        # Filter files within the intersecting minutes\n",
    "        files_within_minute = [obj for obj in result['Contents'] if int(obj[\"Key\"].split(\"_\")[3][-5:-3]) in intersecting_minutes]\n",
    "        \n",
    "        # Extract timestamps and get the most recent file\n",
    "        timestamps_of_files = np.array([obj[\"LastModified\"] for obj in files_within_minute])\n",
    "        most_recent_file = files_within_minute[timestamps_of_files.argmax()]\n",
    "        start_time_string = most_recent_file['Key'].split(\"_\")[3]\n",
    "        file_string = f'ABI-L1b-RadC/{year}/{day_of_year:03d}/{hour:02d}/*_G16_{start_time_string}*/'\n",
    "        print(\"file string\", file_string)\n",
    "        filenames = [f's3://noaa-goes16/{file_string}']\n",
    "        print(\"filenames\", filenames)\n",
    "        \n",
    "        return filenames[0]\n",
    "\n",
    "# Function to handle the input and generate the plot\n",
    "def handle_date_input(date):\n",
    "    #input_date = dt_input.value\n",
    "    print(\"date\", date)\n",
    "    # Check if the input time is in the future\n",
    "    current_time = datetime.utcnow()\n",
    "    if date > current_time:\n",
    "        output.value = \"The input time is in the future. Please enter a valid date and time.\"\n",
    "        return\n",
    "    \n",
    "    year = date.year\n",
    "    day_of_year = date.timetuple().tm_yday\n",
    "    hour = date.hour\n",
    "    minute = date.minute\n",
    "\n",
    "    print(\"year\", year)\n",
    "    print(\"day\" , day_of_year)\n",
    "    print(\"hour\", hour)\n",
    "    print(\"minute\",minute)\n",
    "    \n",
    "    latest_file = get_latest_file(year, day_of_year, hour, minute)\n",
    "    print(\"Latest file\", latest_file)\n",
    "    if not latest_file:\n",
    "        output.value = \"No file found for the specified date and time.\"\n",
    "        return\n",
    "    \n",
    "    storage_options = {'anon': True}\n",
    "    scn = Scene(reader='abi_l1b', filenames=[latest_file], reader_kwargs={'storage_options': storage_options})\n",
    "    scn.load([f'C{x:02d}' for x in range(1, 17)])\n",
    "    \n",
    "    return scn\n",
    "    \n",
    "dt_input = pn.widgets.DatetimeInput(name='Datetime Input',value=datetime(2024, 2, 8))\n",
    "    \n",
    "pn.bind(handle_date_input,date=dt_input)\n",
    "\n",
    "# Single bands\n",
    "\n",
    "band_select = pn.widgets.Select(name='Band name', options=dataset_names)\n",
    "\n",
    "def get_singleband_plot(bandname=None,date=None,return_da=False):\n",
    "    \n",
    "    scn = handle_date_input(date)\n",
    "    scn.load([bandname])\n",
    "    result = scn[bandname]\n",
    "    interactive_plot = result.hvplot.image(width=800,height=400,\n",
    "                                           colorbar=True).opts(title=bandname,\n",
    "                                                               colorbar_opts = {'title': '%s' %(result.attrs[\"long_name\"]\n",
    "                                                                                                + \" (\" +result.attrs[\"units\"]+\")\")}\n",
    "                                                              )\n",
    "    if return_da:\n",
    "        return result\n",
    "    return interactive_plot\n",
    "\n",
    "band_iplot = pn.bind(get_singleband_plot,bandname=band_select,date=dt_input)\n",
    "\n",
    "# Composite bands\n",
    "\n",
    "# For composite bands, we have resolution mismatches to get fields\n",
    "# so we resample all fields to 2km, by using area from the \"C13\" band\n",
    "\n",
    "\n",
    "field_select = pn.widgets.Select(name='Composite field name', options=scn.available_composite_names())\n",
    "\n",
    "def get_compositebands_plot(fieldname=None,date=None):\n",
    "    \n",
    "    scn = handle_date_input(date)\n",
    "    resampling_area = scn[\"C13\"].area\n",
    "    resampled_scn = scn.resample(resampling_area)\n",
    "\n",
    "    \n",
    "    resampled_scn.load([fieldname])\n",
    "    \n",
    "    crs = resampled_scn[fieldname].attrs['area'].to_cartopy_crs()\n",
    "    \n",
    "    result = get_enhanced_image(resampled_scn[fieldname])\n",
    "\n",
    "    result_da = result.data\n",
    "\n",
    "    #scale result data array to 0 to 255, as 0 to 1 does not seem to work with hvplot\n",
    "    result_da = result_da*255\n",
    "    \n",
    "    interactive_plot = result_da.hvplot.rgb(x='x',y='y',bands='bands',colorbar=True,\n",
    "                                            #geo=True,crs=crs,\n",
    "                         rasterize=True,dynamic=True,width=800,height=400).opts(title=fieldname)\n",
    "\n",
    "    return interactive_plot\n",
    "\n",
    "field_iplot = pn.bind(get_compositebands_plot,fieldname=field_select,date=dt_input)\n",
    "\n",
    "# App layout\n",
    "\n",
    "template = pn.template.MaterialTemplate(\n",
    "    site=\"Pythia cookbook\",\n",
    "    title=\"Visualize GOES-R data\",\n",
    "    sidebar= [dt_input],\n",
    "    #collapsed_sidebar=True\n",
    ")\n",
    "\n",
    "template.main.append(\n",
    "    pn.Tabs(\n",
    "        (\"Single fields\",\n",
    "         pn.Row(\n",
    "            band_select,\n",
    "             band_iplot\n",
    "            #sizing_mode='stretch_both'\n",
    "            ),\n",
    "        ),\n",
    "        (\"Composite fields\",   \n",
    "         pn.Row(\n",
    "             field_select,\n",
    "             field_iplot\n",
    "            #sizing_mode='stretch_both'\n",
    "            )\n",
    "        )\n",
    "    )\n",
    ")"
   ]
  },
  {
   "cell_type": "code",
   "execution_count": null,
   "metadata": {},
   "outputs": [],
   "source": [
    "template#.servable()\n"
   ]
  }
 ],
 "metadata": {
  "kernelspec": {
   "display_name": "Python 3 (ipykernel)",
   "language": "python",
   "name": "python3"
  },
  "language_info": {
   "codemirror_mode": {
    "name": "ipython",
    "version": 3
   },
   "file_extension": ".py",
   "mimetype": "text/x-python",
   "name": "python",
   "nbconvert_exporter": "python",
   "pygments_lexer": "ipython3",
   "version": "3.11.9"
  },
  "nbdime-conflicts": {
   "local_diff": [
    {
     "diff": [
      {
       "diff": [
        {
         "key": 0,
         "op": "addrange",
         "valuelist": [
          "Python 3"
         ]
        },
        {
         "key": 0,
         "length": 1,
         "op": "removerange"
        }
       ],
       "key": "display_name",
       "op": "patch"
      }
     ],
     "key": "kernelspec",
     "op": "patch"
    }
   ],
   "remote_diff": [
    {
     "diff": [
      {
       "diff": [
        {
         "key": 0,
         "op": "addrange",
         "valuelist": [
          "Python3"
         ]
        },
        {
         "key": 0,
         "length": 1,
         "op": "removerange"
        }
       ],
       "key": "display_name",
       "op": "patch"
      }
     ],
     "key": "kernelspec",
     "op": "patch"
    }
   ]
  },
  "toc-autonumbering": false
 },
 "nbformat": 4,
 "nbformat_minor": 4
}
